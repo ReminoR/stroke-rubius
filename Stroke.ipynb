{
 "cells": [
  {
   "cell_type": "code",
   "execution_count": 200,
   "metadata": {},
   "outputs": [
    {
     "data": {
      "text/html": [
       "<div>\n",
       "<style scoped>\n",
       "    .dataframe tbody tr th:only-of-type {\n",
       "        vertical-align: middle;\n",
       "    }\n",
       "\n",
       "    .dataframe tbody tr th {\n",
       "        vertical-align: top;\n",
       "    }\n",
       "\n",
       "    .dataframe thead th {\n",
       "        text-align: right;\n",
       "    }\n",
       "</style>\n",
       "<table border=\"1\" class=\"dataframe\">\n",
       "  <thead>\n",
       "    <tr style=\"text-align: right;\">\n",
       "      <th></th>\n",
       "      <th>id</th>\n",
       "      <th>gender</th>\n",
       "      <th>age</th>\n",
       "      <th>hypertension</th>\n",
       "      <th>heart_disease</th>\n",
       "      <th>ever_married</th>\n",
       "      <th>work_type</th>\n",
       "      <th>Residence_type</th>\n",
       "      <th>avg_glucose_level</th>\n",
       "      <th>bmi</th>\n",
       "      <th>smoking_status</th>\n",
       "      <th>stroke</th>\n",
       "    </tr>\n",
       "  </thead>\n",
       "  <tbody>\n",
       "    <tr>\n",
       "      <th>0</th>\n",
       "      <td>15784</td>\n",
       "      <td>Female</td>\n",
       "      <td>33.0</td>\n",
       "      <td>0</td>\n",
       "      <td>0</td>\n",
       "      <td>Yes</td>\n",
       "      <td>Private</td>\n",
       "      <td>Rural</td>\n",
       "      <td>79.53</td>\n",
       "      <td>23.1</td>\n",
       "      <td>never smoked</td>\n",
       "      <td>0</td>\n",
       "    </tr>\n",
       "    <tr>\n",
       "      <th>1</th>\n",
       "      <td>16049</td>\n",
       "      <td>Male</td>\n",
       "      <td>48.0</td>\n",
       "      <td>0</td>\n",
       "      <td>0</td>\n",
       "      <td>Yes</td>\n",
       "      <td>Govt_job</td>\n",
       "      <td>Rural</td>\n",
       "      <td>74.12</td>\n",
       "      <td>NaN</td>\n",
       "      <td>smokes</td>\n",
       "      <td>0</td>\n",
       "    </tr>\n",
       "    <tr>\n",
       "      <th>2</th>\n",
       "      <td>23616</td>\n",
       "      <td>Female</td>\n",
       "      <td>32.0</td>\n",
       "      <td>0</td>\n",
       "      <td>0</td>\n",
       "      <td>No</td>\n",
       "      <td>Private</td>\n",
       "      <td>Urban</td>\n",
       "      <td>69.83</td>\n",
       "      <td>22.0</td>\n",
       "      <td>never smoked</td>\n",
       "      <td>0</td>\n",
       "    </tr>\n",
       "    <tr>\n",
       "      <th>3</th>\n",
       "      <td>52824</td>\n",
       "      <td>Female</td>\n",
       "      <td>59.0</td>\n",
       "      <td>0</td>\n",
       "      <td>0</td>\n",
       "      <td>Yes</td>\n",
       "      <td>Private</td>\n",
       "      <td>Rural</td>\n",
       "      <td>146.97</td>\n",
       "      <td>30.1</td>\n",
       "      <td>never smoked</td>\n",
       "      <td>0</td>\n",
       "    </tr>\n",
       "    <tr>\n",
       "      <th>4</th>\n",
       "      <td>22322</td>\n",
       "      <td>Female</td>\n",
       "      <td>31.0</td>\n",
       "      <td>0</td>\n",
       "      <td>0</td>\n",
       "      <td>No</td>\n",
       "      <td>Private</td>\n",
       "      <td>Rural</td>\n",
       "      <td>69.27</td>\n",
       "      <td>28.9</td>\n",
       "      <td>NaN</td>\n",
       "      <td>0</td>\n",
       "    </tr>\n",
       "  </tbody>\n",
       "</table>\n",
       "</div>"
      ],
      "text/plain": [
       "      id  gender   age  hypertension  heart_disease ever_married work_type  \\\n",
       "0  15784  Female  33.0             0              0          Yes   Private   \n",
       "1  16049    Male  48.0             0              0          Yes  Govt_job   \n",
       "2  23616  Female  32.0             0              0           No   Private   \n",
       "3  52824  Female  59.0             0              0          Yes   Private   \n",
       "4  22322  Female  31.0             0              0           No   Private   \n",
       "\n",
       "  Residence_type  avg_glucose_level   bmi smoking_status  stroke  \n",
       "0          Rural              79.53  23.1   never smoked       0  \n",
       "1          Rural              74.12   NaN         smokes       0  \n",
       "2          Urban              69.83  22.0   never smoked       0  \n",
       "3          Rural             146.97  30.1   never smoked       0  \n",
       "4          Rural              69.27  28.9            NaN       0  "
      ]
     },
     "execution_count": 200,
     "metadata": {},
     "output_type": "execute_result"
    }
   ],
   "source": [
    "import pandas as pd\n",
    "import numpy as np\n",
    "import matplotlib.pyplot as plt\n",
    "import seaborn as sns\n",
    "plt.style.use('ggplot')  # Красивые графики\n",
    "\n",
    "pd.set_option(\"display.max_columns\", 100)\n",
    "pd.set_option(\"display.max_rows\", 50)\n",
    "\n",
    "data_train = pd.read_csv('stroke_train.csv')\n",
    "data_test = pd.read_csv('stroke_test.csv')\n",
    "\n",
    "data_train.head()"
   ]
  },
  {
   "cell_type": "code",
   "execution_count": 201,
   "metadata": {},
   "outputs": [
    {
     "name": "stdout",
     "output_type": "stream",
     "text": [
      "Shape of data train (20832, 12)\n",
      "Shape of data test (5208, 12)\n"
     ]
    }
   ],
   "source": [
    "print('Shape of data train', data_train.shape)\n",
    "print('Shape of data test', data_test.shape)"
   ]
  },
  {
   "cell_type": "code",
   "execution_count": 202,
   "metadata": {},
   "outputs": [
    {
     "name": "stdout",
     "output_type": "stream",
     "text": [
      "<class 'pandas.core.frame.DataFrame'>\n",
      "RangeIndex: 20832 entries, 0 to 20831\n",
      "Data columns (total 12 columns):\n",
      "id                   20832 non-null int64\n",
      "gender               20832 non-null object\n",
      "age                  20832 non-null float64\n",
      "hypertension         20832 non-null int64\n",
      "heart_disease        20832 non-null int64\n",
      "ever_married         20832 non-null object\n",
      "work_type            20832 non-null object\n",
      "Residence_type       20832 non-null object\n",
      "avg_glucose_level    20832 non-null float64\n",
      "bmi                  20151 non-null float64\n",
      "smoking_status       14463 non-null object\n",
      "stroke               20832 non-null int64\n",
      "dtypes: float64(3), int64(4), object(5)\n",
      "memory usage: 1.9+ MB\n"
     ]
    }
   ],
   "source": [
    "data_train.info()"
   ]
  },
  {
   "cell_type": "code",
   "execution_count": 343,
   "metadata": {},
   "outputs": [
    {
     "data": {
      "text/plain": [
       "id                     int64\n",
       "gender                 int32\n",
       "age                  float64\n",
       "hypertension           int64\n",
       "heart_disease          int64\n",
       "ever_married           int64\n",
       "work_type             object\n",
       "Residence_type         int64\n",
       "avg_glucose_level    float64\n",
       "bmi                  float64\n",
       "smoking_status        object\n",
       "stroke                 int64\n",
       "dtype: object"
      ]
     },
     "execution_count": 343,
     "metadata": {},
     "output_type": "execute_result"
    }
   ],
   "source": [
    "data_train.dtypes"
   ]
  },
  {
   "cell_type": "code",
   "execution_count": 203,
   "metadata": {},
   "outputs": [
    {
     "data": {
      "text/html": [
       "<div>\n",
       "<style scoped>\n",
       "    .dataframe tbody tr th:only-of-type {\n",
       "        vertical-align: middle;\n",
       "    }\n",
       "\n",
       "    .dataframe tbody tr th {\n",
       "        vertical-align: top;\n",
       "    }\n",
       "\n",
       "    .dataframe thead th {\n",
       "        text-align: right;\n",
       "    }\n",
       "</style>\n",
       "<table border=\"1\" class=\"dataframe\">\n",
       "  <thead>\n",
       "    <tr style=\"text-align: right;\">\n",
       "      <th></th>\n",
       "      <th>age</th>\n",
       "      <th>hypertension</th>\n",
       "      <th>heart_disease</th>\n",
       "      <th>avg_glucose_level</th>\n",
       "      <th>bmi</th>\n",
       "    </tr>\n",
       "  </thead>\n",
       "  <tbody>\n",
       "    <tr>\n",
       "      <th>count</th>\n",
       "      <td>20832.000000</td>\n",
       "      <td>20832.000000</td>\n",
       "      <td>20832.000000</td>\n",
       "      <td>20832.000000</td>\n",
       "      <td>20151.000000</td>\n",
       "    </tr>\n",
       "    <tr>\n",
       "      <th>mean</th>\n",
       "      <td>42.269677</td>\n",
       "      <td>0.093126</td>\n",
       "      <td>0.049395</td>\n",
       "      <td>104.357774</td>\n",
       "      <td>28.599687</td>\n",
       "    </tr>\n",
       "    <tr>\n",
       "      <th>std</th>\n",
       "      <td>22.562275</td>\n",
       "      <td>0.290616</td>\n",
       "      <td>0.216697</td>\n",
       "      <td>43.259818</td>\n",
       "      <td>7.783798</td>\n",
       "    </tr>\n",
       "    <tr>\n",
       "      <th>min</th>\n",
       "      <td>0.080000</td>\n",
       "      <td>0.000000</td>\n",
       "      <td>0.000000</td>\n",
       "      <td>55.000000</td>\n",
       "      <td>10.100000</td>\n",
       "    </tr>\n",
       "    <tr>\n",
       "      <th>25%</th>\n",
       "      <td>24.000000</td>\n",
       "      <td>0.000000</td>\n",
       "      <td>0.000000</td>\n",
       "      <td>77.390000</td>\n",
       "      <td>23.200000</td>\n",
       "    </tr>\n",
       "    <tr>\n",
       "      <th>50%</th>\n",
       "      <td>44.000000</td>\n",
       "      <td>0.000000</td>\n",
       "      <td>0.000000</td>\n",
       "      <td>91.320000</td>\n",
       "      <td>27.700000</td>\n",
       "    </tr>\n",
       "    <tr>\n",
       "      <th>75%</th>\n",
       "      <td>60.000000</td>\n",
       "      <td>0.000000</td>\n",
       "      <td>0.000000</td>\n",
       "      <td>111.470000</td>\n",
       "      <td>32.900000</td>\n",
       "    </tr>\n",
       "    <tr>\n",
       "      <th>max</th>\n",
       "      <td>82.000000</td>\n",
       "      <td>1.000000</td>\n",
       "      <td>1.000000</td>\n",
       "      <td>281.590000</td>\n",
       "      <td>96.100000</td>\n",
       "    </tr>\n",
       "  </tbody>\n",
       "</table>\n",
       "</div>"
      ],
      "text/plain": [
       "                age  hypertension  heart_disease  avg_glucose_level  \\\n",
       "count  20832.000000  20832.000000   20832.000000       20832.000000   \n",
       "mean      42.269677      0.093126       0.049395         104.357774   \n",
       "std       22.562275      0.290616       0.216697          43.259818   \n",
       "min        0.080000      0.000000       0.000000          55.000000   \n",
       "25%       24.000000      0.000000       0.000000          77.390000   \n",
       "50%       44.000000      0.000000       0.000000          91.320000   \n",
       "75%       60.000000      0.000000       0.000000         111.470000   \n",
       "max       82.000000      1.000000       1.000000         281.590000   \n",
       "\n",
       "                bmi  \n",
       "count  20151.000000  \n",
       "mean      28.599687  \n",
       "std        7.783798  \n",
       "min       10.100000  \n",
       "25%       23.200000  \n",
       "50%       27.700000  \n",
       "75%       32.900000  \n",
       "max       96.100000  "
      ]
     },
     "execution_count": 203,
     "metadata": {},
     "output_type": "execute_result"
    }
   ],
   "source": [
    "data_train[['age', 'hypertension', 'heart_disease', 'avg_glucose_level', 'bmi']].describe()"
   ]
  },
  {
   "cell_type": "code",
   "execution_count": 204,
   "metadata": {
    "scrolled": true
   },
   "outputs": [
    {
     "name": "stdout",
     "output_type": "stream",
     "text": [
      "Missing of data\n",
      " id                      0\n",
      "gender                  0\n",
      "age                     0\n",
      "hypertension            0\n",
      "heart_disease           0\n",
      "ever_married            0\n",
      "work_type               0\n",
      "Residence_type          0\n",
      "avg_glucose_level       0\n",
      "bmi                   681\n",
      "smoking_status       6369\n",
      "stroke                  0\n",
      "dtype: int64\n",
      "Missing of data\n",
      " id                      0\n",
      "gender                  0\n",
      "age                     0\n",
      "hypertension            0\n",
      "heart_disease           0\n",
      "ever_married            0\n",
      "work_type               0\n",
      "Residence_type          0\n",
      "avg_glucose_level       0\n",
      "bmi                   164\n",
      "smoking_status       1577\n",
      "stroke                  0\n",
      "dtype: int64\n"
     ]
    }
   ],
   "source": [
    "print('Missing of data\\n', data_train.isna().sum())\n",
    "print('Missing of data\\n', data_test.isna().sum())"
   ]
  },
  {
   "cell_type": "markdown",
   "metadata": {},
   "source": [
    "## 1. Подготовка данных"
   ]
  },
  {
   "cell_type": "markdown",
   "metadata": {},
   "source": [
    "### 1. Gender"
   ]
  },
  {
   "cell_type": "code",
   "execution_count": 205,
   "metadata": {},
   "outputs": [
    {
     "name": "stdout",
     "output_type": "stream",
     "text": [
      "Female    12314\n",
      "Male       8514\n",
      "Other         4\n",
      "Name: gender, dtype: int64\n"
     ]
    },
    {
     "data": {
      "text/plain": [
       "<matplotlib.axes._subplots.AxesSubplot at 0x1f337630>"
      ]
     },
     "execution_count": 205,
     "metadata": {},
     "output_type": "execute_result"
    },
    {
     "data": {
      "image/png": "[encoded data removed]",
      "text/plain": [
       "<Figure size 432x288 with 1 Axes>"
      ]
     },
     "metadata": {},
     "output_type": "display_data"
    }
   ],
   "source": [
    "print(data_train['gender'].value_counts())\n",
    "data_train['gender'].value_counts().plot(kind='bar')\n"
   ]
  },
  {
   "cell_type": "code",
   "execution_count": 206,
   "metadata": {},
   "outputs": [
    {
     "data": {
      "text/html": [
       "<div>\n",
       "<style scoped>\n",
       "    .dataframe tbody tr th:only-of-type {\n",
       "        vertical-align: middle;\n",
       "    }\n",
       "\n",
       "    .dataframe tbody tr th {\n",
       "        vertical-align: top;\n",
       "    }\n",
       "\n",
       "    .dataframe thead th {\n",
       "        text-align: right;\n",
       "    }\n",
       "</style>\n",
       "<table border=\"1\" class=\"dataframe\">\n",
       "  <thead>\n",
       "    <tr style=\"text-align: right;\">\n",
       "      <th></th>\n",
       "      <th>id</th>\n",
       "      <th>gender</th>\n",
       "      <th>age</th>\n",
       "      <th>hypertension</th>\n",
       "      <th>heart_disease</th>\n",
       "      <th>ever_married</th>\n",
       "      <th>work_type</th>\n",
       "      <th>Residence_type</th>\n",
       "      <th>avg_glucose_level</th>\n",
       "      <th>bmi</th>\n",
       "      <th>smoking_status</th>\n",
       "      <th>stroke</th>\n",
       "    </tr>\n",
       "  </thead>\n",
       "  <tbody>\n",
       "    <tr>\n",
       "      <th>2397</th>\n",
       "      <td>49812</td>\n",
       "      <td>Other</td>\n",
       "      <td>53.0</td>\n",
       "      <td>0</td>\n",
       "      <td>0</td>\n",
       "      <td>Yes</td>\n",
       "      <td>Govt_job</td>\n",
       "      <td>Urban</td>\n",
       "      <td>65.29</td>\n",
       "      <td>NaN</td>\n",
       "      <td>NaN</td>\n",
       "      <td>0</td>\n",
       "    </tr>\n",
       "    <tr>\n",
       "      <th>8984</th>\n",
       "      <td>42452</td>\n",
       "      <td>Other</td>\n",
       "      <td>10.0</td>\n",
       "      <td>0</td>\n",
       "      <td>0</td>\n",
       "      <td>No</td>\n",
       "      <td>children</td>\n",
       "      <td>Rural</td>\n",
       "      <td>72.05</td>\n",
       "      <td>21.2</td>\n",
       "      <td>formerly smoked</td>\n",
       "      <td>0</td>\n",
       "    </tr>\n",
       "    <tr>\n",
       "      <th>9320</th>\n",
       "      <td>13471</td>\n",
       "      <td>Other</td>\n",
       "      <td>39.0</td>\n",
       "      <td>0</td>\n",
       "      <td>0</td>\n",
       "      <td>Yes</td>\n",
       "      <td>Govt_job</td>\n",
       "      <td>Urban</td>\n",
       "      <td>95.59</td>\n",
       "      <td>32.0</td>\n",
       "      <td>formerly smoked</td>\n",
       "      <td>0</td>\n",
       "    </tr>\n",
       "    <tr>\n",
       "      <th>18411</th>\n",
       "      <td>26188</td>\n",
       "      <td>Other</td>\n",
       "      <td>46.0</td>\n",
       "      <td>0</td>\n",
       "      <td>0</td>\n",
       "      <td>No</td>\n",
       "      <td>Private</td>\n",
       "      <td>Rural</td>\n",
       "      <td>83.28</td>\n",
       "      <td>NaN</td>\n",
       "      <td>never smoked</td>\n",
       "      <td>0</td>\n",
       "    </tr>\n",
       "  </tbody>\n",
       "</table>\n",
       "</div>"
      ],
      "text/plain": [
       "          id gender   age  hypertension  heart_disease ever_married work_type  \\\n",
       "2397   49812  Other  53.0             0              0          Yes  Govt_job   \n",
       "8984   42452  Other  10.0             0              0           No  children   \n",
       "9320   13471  Other  39.0             0              0          Yes  Govt_job   \n",
       "18411  26188  Other  46.0             0              0           No   Private   \n",
       "\n",
       "      Residence_type  avg_glucose_level   bmi   smoking_status  stroke  \n",
       "2397           Urban              65.29   NaN              NaN       0  \n",
       "8984           Rural              72.05  21.2  formerly smoked       0  \n",
       "9320           Urban              95.59  32.0  formerly smoked       0  \n",
       "18411          Rural              83.28   NaN     never smoked       0  "
      ]
     },
     "execution_count": 206,
     "metadata": {},
     "output_type": "execute_result"
    }
   ],
   "source": [
    "data_train.loc[data_train['gender'] == 'Other']"
   ]
  },
  {
   "cell_type": "code",
   "execution_count": 207,
   "metadata": {},
   "outputs": [
    {
     "data": {
      "text/plain": [
       "0    12314\n",
       "1     8514\n",
       "Name: gender, dtype: int64"
      ]
     },
     "execution_count": 207,
     "metadata": {},
     "output_type": "execute_result"
    }
   ],
   "source": [
    "# Other - удаляем, потому что относятся к классу \"0\"\n",
    "#Заменяем на 0 и 1\n",
    "data_train['gender'].replace(to_replace='Male', value=1, inplace=True)\n",
    "data_train['gender'].replace(to_replace='Female', value=0, inplace=True)\n",
    "data_train.drop(data_train[data_train['gender'] == 'Other'].index, inplace=True) \n",
    "data_train['gender'].value_counts()"
   ]
  },
  {
   "cell_type": "code",
   "execution_count": 208,
   "metadata": {},
   "outputs": [
    {
     "data": {
      "text/plain": [
       "0    3142\n",
       "1    2065\n",
       "Name: gender, dtype: int64"
      ]
     },
     "execution_count": 208,
     "metadata": {},
     "output_type": "execute_result"
    }
   ],
   "source": [
    "data_test['gender'].replace(to_replace='Male', value=1, inplace=True)\n",
    "data_test['gender'].replace(to_replace='Female', value=0, inplace=True)\n",
    "data_test.drop(data_test[data_test['gender'] == 'Other'].index, inplace=True)\n",
    "data_test['gender'].value_counts()"
   ]
  },
  {
   "cell_type": "code",
   "execution_count": 209,
   "metadata": {},
   "outputs": [
    {
     "name": "stdout",
     "output_type": "stream",
     "text": [
      "Размер данных тренировочной выборки:  (20828,)\n",
      "Размер данных тестовой выборки:       (5207,)\n",
      "Целевая функция (1):  (376, 12)\n"
     ]
    }
   ],
   "source": [
    "print('Размер данных тренировочной выборки: ', data_train['gender'].shape)\n",
    "print('Размер данных тестовой выборки:      ', data_test['gender'].shape)\n",
    "print('Целевая функция (1): ', data_train.loc[data_train['stroke'] == 1].shape)"
   ]
  },
  {
   "cell_type": "code",
   "execution_count": 256,
   "metadata": {},
   "outputs": [],
   "source": [
    "#Переводим к типу int\n",
    "data_train['gender'] = data_train['gender'].astype(int)\n",
    "data_test['gender'] = data_test['gender'].astype(int)"
   ]
  },
  {
   "cell_type": "markdown",
   "metadata": {},
   "source": [
    "### 2. Age"
   ]
  },
  {
   "cell_type": "code",
   "execution_count": 211,
   "metadata": {},
   "outputs": [
    {
     "data": {
      "image/png": "[encoded data removed]",
      "text/plain": [
       "<Figure size 432x288 with 1 Axes>"
      ]
     },
     "metadata": {},
     "output_type": "display_data"
    },
    {
     "data": {
      "image/png": "[encoded data removed]",
      "text/plain": [
       "<Figure size 576x360 with 1 Axes>"
      ]
     },
     "metadata": {},
     "output_type": "display_data"
    }
   ],
   "source": [
    "data_train[['age']].plot.box()\n",
    "\n",
    "plt.figure(figsize=(8, 5))\n",
    "plt.hist(data_train['age'], 50, edgecolor='white')\n",
    "plt.xlabel('age')\n",
    "plt.ylabel('Количество')\n",
    "plt.grid(True)"
   ]
  },
  {
   "cell_type": "markdown",
   "metadata": {},
   "source": [
    "### 3. Hypertension"
   ]
  },
  {
   "cell_type": "code",
   "execution_count": 212,
   "metadata": {},
   "outputs": [
    {
     "name": "stdout",
     "output_type": "stream",
     "text": [
      "0    18888\n",
      "1     1940\n",
      "Name: hypertension, dtype: int64\n",
      "(20828,)\n"
     ]
    },
    {
     "data": {
      "text/plain": [
       "<matplotlib.axes._subplots.AxesSubplot at 0x1ee57f28>"
      ]
     },
     "execution_count": 212,
     "metadata": {},
     "output_type": "execute_result"
    },
    {
     "data": {
      "image/png": "[encoded data removed]",
      "text/plain": [
       "<Figure size 432x288 with 1 Axes>"
      ]
     },
     "metadata": {},
     "output_type": "display_data"
    }
   ],
   "source": [
    "#Все нормально\n",
    "print(data_train['hypertension'].value_counts())\n",
    "print(data_train['hypertension'].shape)\n",
    "data_train['hypertension'].value_counts().plot(kind='bar')"
   ]
  },
  {
   "cell_type": "markdown",
   "metadata": {},
   "source": [
    "### 4. Heart Disease"
   ]
  },
  {
   "cell_type": "code",
   "execution_count": 213,
   "metadata": {},
   "outputs": [
    {
     "name": "stdout",
     "output_type": "stream",
     "text": [
      "0    19799\n",
      "1     1029\n",
      "Name: heart_disease, dtype: int64\n",
      "(20828,)\n"
     ]
    },
    {
     "data": {
      "text/plain": [
       "<matplotlib.axes._subplots.AxesSubplot at 0x1f6a38d0>"
      ]
     },
     "execution_count": 213,
     "metadata": {},
     "output_type": "execute_result"
    },
    {
     "data": {
      "image/png": "[encoded data removed]",
      "text/plain": [
       "<Figure size 432x288 with 1 Axes>"
      ]
     },
     "metadata": {},
     "output_type": "display_data"
    }
   ],
   "source": [
    "#Все нормально\n",
    "print(data_train['heart_disease'].value_counts())\n",
    "print(data_train['heart_disease'].shape)\n",
    "data_train['heart_disease'].value_counts().plot(kind='bar')\n"
   ]
  },
  {
   "cell_type": "markdown",
   "metadata": {},
   "source": [
    "### 5. Ever married"
   ]
  },
  {
   "cell_type": "code",
   "execution_count": 214,
   "metadata": {},
   "outputs": [
    {
     "name": "stdout",
     "output_type": "stream",
     "text": [
      "Yes    13503\n",
      "No      7325\n",
      "Name: ever_married, dtype: int64\n",
      "(20828,)\n"
     ]
    },
    {
     "data": {
      "text/plain": [
       "<matplotlib.axes._subplots.AxesSubplot at 0x1f3855f8>"
      ]
     },
     "execution_count": 214,
     "metadata": {},
     "output_type": "execute_result"
    },
    {
     "data": {
      "image/png": "[encoded data removed]",
      "text/plain": [
       "<Figure size 432x288 with 1 Axes>"
      ]
     },
     "metadata": {},
     "output_type": "display_data"
    }
   ],
   "source": [
    "#Все нормально\n",
    "print(data_train['ever_married'].value_counts())\n",
    "print(data_train['ever_married'].shape)\n",
    "data_train['ever_married'].value_counts().plot(kind='bar')"
   ]
  },
  {
   "cell_type": "code",
   "execution_count": 215,
   "metadata": {},
   "outputs": [
    {
     "name": "stdout",
     "output_type": "stream",
     "text": [
      "Value counts after:\n",
      " 1    13503\n",
      "0     7325\n",
      "Name: ever_married, dtype: int64\n",
      "Value counts after:\n",
      " 1    3356\n",
      "0    1851\n",
      "Name: ever_married, dtype: int64\n"
     ]
    }
   ],
   "source": [
    "# Заменяем на 1 и 0\n",
    "data_train['ever_married'].replace(to_replace='Yes', value=1, inplace=True)\n",
    "data_train['ever_married'].replace(to_replace='No', value=0, inplace=True)\n",
    "print('Value counts after:\\r\\n',data_train['ever_married'].value_counts())\n",
    "\n",
    "data_test['ever_married'].replace(to_replace='Yes', value=1, inplace=True)\n",
    "data_test['ever_married'].replace(to_replace='No', value=0, inplace=True)\n",
    "print('Value counts after:\\r\\n',data_test['ever_married'].value_counts())"
   ]
  },
  {
   "cell_type": "markdown",
   "metadata": {},
   "source": [
    "### 6. Work type"
   ]
  },
  {
   "cell_type": "code",
   "execution_count": 216,
   "metadata": {},
   "outputs": [
    {
     "name": "stdout",
     "output_type": "stream",
     "text": [
      "Private          11931\n",
      "Self-employed     3229\n",
      "children          2957\n",
      "Govt_job          2632\n",
      "Never_worked        79\n",
      "Name: work_type, dtype: int64\n",
      "(20828,)\n"
     ]
    },
    {
     "data": {
      "text/plain": [
       "<matplotlib.axes._subplots.AxesSubplot at 0x1e894c18>"
      ]
     },
     "execution_count": 216,
     "metadata": {},
     "output_type": "execute_result"
    },
    {
     "data": {
      "image/png": "[encoded data removed]",
      "text/plain": [
       "<Figure size 432x288 with 1 Axes>"
      ]
     },
     "metadata": {},
     "output_type": "display_data"
    }
   ],
   "source": [
    "print(data_train['work_type'].value_counts())\n",
    "print(data_train['work_type'].shape)\n",
    "data_train['work_type'].value_counts().plot(kind='bar')"
   ]
  },
  {
   "cell_type": "code",
   "execution_count": 217,
   "metadata": {},
   "outputs": [],
   "source": [
    "# #children - до 16\n",
    "# #Поставить детям до 16 - children\n",
    "# children = data_train.loc[(data_train['work_type'] != 'children') & (data_train['age'] <= 16)]\n",
    "# children['work_type'].value_counts()"
   ]
  },
  {
   "cell_type": "markdown",
   "metadata": {},
   "source": [
    "### 7. Residence type"
   ]
  },
  {
   "cell_type": "code",
   "execution_count": 218,
   "metadata": {},
   "outputs": [
    {
     "name": "stdout",
     "output_type": "stream",
     "text": [
      "Urban    10423\n",
      "Rural    10405\n",
      "Name: Residence_type, dtype: int64\n",
      "(20828,)\n"
     ]
    },
    {
     "data": {
      "text/plain": [
       "<matplotlib.axes._subplots.AxesSubplot at 0x1c5b14a8>"
      ]
     },
     "execution_count": 218,
     "metadata": {},
     "output_type": "execute_result"
    },
    {
     "data": {
      "image/png": "[encoded data removed]",
      "text/plain": [
       "<Figure size 432x288 with 1 Axes>"
      ]
     },
     "metadata": {},
     "output_type": "display_data"
    }
   ],
   "source": [
    "print(data_train['Residence_type'].value_counts())\n",
    "print(data_train['Residence_type'].shape)\n",
    "data_train['Residence_type'].value_counts().plot(kind='bar')"
   ]
  },
  {
   "cell_type": "code",
   "execution_count": 219,
   "metadata": {},
   "outputs": [
    {
     "name": "stdout",
     "output_type": "stream",
     "text": [
      "1    10423\n",
      "0    10405\n",
      "Name: Residence_type, dtype: int64\n",
      "1    2610\n",
      "0    2597\n",
      "Name: Residence_type, dtype: int64\n"
     ]
    }
   ],
   "source": [
    "# Заменить на 1 (Urban) и 0 (Rural)\n",
    "\n",
    "data_train['Residence_type'].replace(to_replace='Urban', value=1, inplace=True)\n",
    "data_train['Residence_type'].replace(to_replace='Rural', value=0, inplace=True)\n",
    "print(data_train['Residence_type'].value_counts())\n",
    "data_test['Residence_type'].replace(to_replace='Urban', value=1, inplace=True)\n",
    "data_test['Residence_type'].replace(to_replace='Rural', value=0, inplace=True)\n",
    "print(data_test['Residence_type'].value_counts())"
   ]
  },
  {
   "cell_type": "markdown",
   "metadata": {},
   "source": [
    "### 8. Avg glucose level"
   ]
  },
  {
   "cell_type": "code",
   "execution_count": 220,
   "metadata": {},
   "outputs": [
    {
     "name": "stdout",
     "output_type": "stream",
     "text": [
      "(20828,)\n"
     ]
    },
    {
     "data": {
      "text/plain": [
       "<matplotlib.axes._subplots.AxesSubplot at 0x1f4405f8>"
      ]
     },
     "execution_count": 220,
     "metadata": {},
     "output_type": "execute_result"
    },
    {
     "data": {
      "image/png": "[encoded data removed]",
      "text/plain": [
       "<Figure size 432x288 with 1 Axes>"
      ]
     },
     "metadata": {},
     "output_type": "display_data"
    }
   ],
   "source": [
    "print(data_train['avg_glucose_level'].shape)\n",
    "data_train[['avg_glucose_level']].plot.box()"
   ]
  },
  {
   "cell_type": "code",
   "execution_count": 221,
   "metadata": {},
   "outputs": [
    {
     "data": {
      "image/png": "[encoded data removed]",
      "text/plain": [
       "<Figure size 432x288 with 1 Axes>"
      ]
     },
     "metadata": {},
     "output_type": "display_data"
    }
   ],
   "source": [
    "plt.hist(data_train['avg_glucose_level'], 50, edgecolor='white')\n",
    "plt.xlabel('avg_glucose_level')\n",
    "plt.ylabel('Количество')\n",
    "plt.grid(True)"
   ]
  },
  {
   "cell_type": "code",
   "execution_count": 222,
   "metadata": {},
   "outputs": [
    {
     "data": {
      "text/html": [
       "<div>\n",
       "<style scoped>\n",
       "    .dataframe tbody tr th:only-of-type {\n",
       "        vertical-align: middle;\n",
       "    }\n",
       "\n",
       "    .dataframe tbody tr th {\n",
       "        vertical-align: top;\n",
       "    }\n",
       "\n",
       "    .dataframe thead th {\n",
       "        text-align: right;\n",
       "    }\n",
       "</style>\n",
       "<table border=\"1\" class=\"dataframe\">\n",
       "  <thead>\n",
       "    <tr style=\"text-align: right;\">\n",
       "      <th></th>\n",
       "      <th>id</th>\n",
       "      <th>gender</th>\n",
       "      <th>age</th>\n",
       "      <th>hypertension</th>\n",
       "      <th>heart_disease</th>\n",
       "      <th>ever_married</th>\n",
       "      <th>work_type</th>\n",
       "      <th>Residence_type</th>\n",
       "      <th>avg_glucose_level</th>\n",
       "      <th>bmi</th>\n",
       "      <th>smoking_status</th>\n",
       "      <th>stroke</th>\n",
       "    </tr>\n",
       "  </thead>\n",
       "  <tbody>\n",
       "    <tr>\n",
       "      <th>11</th>\n",
       "      <td>47959</td>\n",
       "      <td>1</td>\n",
       "      <td>60.0</td>\n",
       "      <td>0</td>\n",
       "      <td>0</td>\n",
       "      <td>1</td>\n",
       "      <td>Private</td>\n",
       "      <td>0</td>\n",
       "      <td>210.70</td>\n",
       "      <td>25.5</td>\n",
       "      <td>formerly smoked</td>\n",
       "      <td>0</td>\n",
       "    </tr>\n",
       "    <tr>\n",
       "      <th>29</th>\n",
       "      <td>14720</td>\n",
       "      <td>1</td>\n",
       "      <td>22.0</td>\n",
       "      <td>0</td>\n",
       "      <td>0</td>\n",
       "      <td>1</td>\n",
       "      <td>Private</td>\n",
       "      <td>1</td>\n",
       "      <td>191.91</td>\n",
       "      <td>29.1</td>\n",
       "      <td>never smoked</td>\n",
       "      <td>0</td>\n",
       "    </tr>\n",
       "    <tr>\n",
       "      <th>36</th>\n",
       "      <td>62737</td>\n",
       "      <td>0</td>\n",
       "      <td>73.0</td>\n",
       "      <td>0</td>\n",
       "      <td>0</td>\n",
       "      <td>1</td>\n",
       "      <td>Private</td>\n",
       "      <td>0</td>\n",
       "      <td>201.44</td>\n",
       "      <td>27.8</td>\n",
       "      <td>never smoked</td>\n",
       "      <td>0</td>\n",
       "    </tr>\n",
       "    <tr>\n",
       "      <th>45</th>\n",
       "      <td>25014</td>\n",
       "      <td>1</td>\n",
       "      <td>4.0</td>\n",
       "      <td>0</td>\n",
       "      <td>0</td>\n",
       "      <td>0</td>\n",
       "      <td>children</td>\n",
       "      <td>0</td>\n",
       "      <td>201.73</td>\n",
       "      <td>20.6</td>\n",
       "      <td>NaN</td>\n",
       "      <td>0</td>\n",
       "    </tr>\n",
       "    <tr>\n",
       "      <th>47</th>\n",
       "      <td>52025</td>\n",
       "      <td>1</td>\n",
       "      <td>62.0</td>\n",
       "      <td>0</td>\n",
       "      <td>0</td>\n",
       "      <td>1</td>\n",
       "      <td>Private</td>\n",
       "      <td>0</td>\n",
       "      <td>176.04</td>\n",
       "      <td>34.0</td>\n",
       "      <td>formerly smoked</td>\n",
       "      <td>0</td>\n",
       "    </tr>\n",
       "  </tbody>\n",
       "</table>\n",
       "</div>"
      ],
      "text/plain": [
       "       id  gender   age  hypertension  heart_disease  ever_married work_type  \\\n",
       "11  47959       1  60.0             0              0             1   Private   \n",
       "29  14720       1  22.0             0              0             1   Private   \n",
       "36  62737       0  73.0             0              0             1   Private   \n",
       "45  25014       1   4.0             0              0             0  children   \n",
       "47  52025       1  62.0             0              0             1   Private   \n",
       "\n",
       "    Residence_type  avg_glucose_level   bmi   smoking_status  stroke  \n",
       "11               0             210.70  25.5  formerly smoked       0  \n",
       "29               1             191.91  29.1     never smoked       0  \n",
       "36               0             201.44  27.8     never smoked       0  \n",
       "45               0             201.73  20.6              NaN       0  \n",
       "47               0             176.04  34.0  formerly smoked       0  "
      ]
     },
     "execution_count": 222,
     "metadata": {},
     "output_type": "execute_result"
    }
   ],
   "source": [
    "top_line_avg = data_train['avg_glucose_level'].quantile(0.75) + (1.5 * (data_train['avg_glucose_level'].quantile(0.75) - data_train['avg_glucose_level'].quantile(0.25)))\n",
    "avg_outliers_null = data_train.loc[(data_train['avg_glucose_level'] > top_line_avg) & (data_train['stroke'] == 0)]\n",
    "avg_outliers_null.head()"
   ]
  },
  {
   "cell_type": "code",
   "execution_count": 223,
   "metadata": {},
   "outputs": [
    {
     "name": "stdout",
     "output_type": "stream",
     "text": [
      "(2322, 12)\n"
     ]
    }
   ],
   "source": [
    "print(avg_outliers_null.shape)"
   ]
  },
  {
   "cell_type": "code",
   "execution_count": 224,
   "metadata": {},
   "outputs": [],
   "source": [
    "data_train.drop(data_train[(data_train['avg_glucose_level'] > top_line_avg) & (data_train['stroke'] == 0)].index, inplace=True)"
   ]
  },
  {
   "cell_type": "code",
   "execution_count": 225,
   "metadata": {},
   "outputs": [
    {
     "name": "stdout",
     "output_type": "stream",
     "text": [
      "Размер данных тренировочной выборки:  (18506,)\n",
      "Размер данных тестовой выборки:       (5207,)\n",
      "Целевая функция (1):  (376, 12)\n"
     ]
    }
   ],
   "source": [
    "print('Размер данных тренировочной выборки: ', data_train['gender'].shape)\n",
    "print('Размер данных тестовой выборки:      ', data_test['gender'].shape)\n",
    "print('Целевая функция (1): ', data_train.loc[data_train['stroke'] == 1].shape)"
   ]
  },
  {
   "cell_type": "code",
   "execution_count": 226,
   "metadata": {},
   "outputs": [
    {
     "data": {
      "image/png": "[encoded data removed]",
      "text/plain": [
       "<Figure size 432x288 with 1 Axes>"
      ]
     },
     "metadata": {},
     "output_type": "display_data"
    }
   ],
   "source": [
    "#Распределение немного поправилось\n",
    "plt.hist(data_train['avg_glucose_level'], 50, edgecolor='white')\n",
    "plt.xlabel('avg_glucose_level')\n",
    "plt.ylabel('Количество')\n",
    "plt.grid(True)"
   ]
  },
  {
   "cell_type": "code",
   "execution_count": 227,
   "metadata": {},
   "outputs": [
    {
     "name": "stdout",
     "output_type": "stream",
     "text": [
      "(18506,)\n"
     ]
    },
    {
     "data": {
      "text/plain": [
       "<matplotlib.axes._subplots.AxesSubplot at 0x20adc390>"
      ]
     },
     "execution_count": 227,
     "metadata": {},
     "output_type": "execute_result"
    },
    {
     "data": {
      "image/png": "[encoded data removed]",
      "text/plain": [
       "<Figure size 432x288 with 1 Axes>"
      ]
     },
     "metadata": {},
     "output_type": "display_data"
    }
   ],
   "source": [
    "#  но выбросы все равно еще остаются.\n",
    "print(data_train['avg_glucose_level'].shape)\n",
    "data_train[['avg_glucose_level']].plot.box()"
   ]
  },
  {
   "cell_type": "code",
   "execution_count": 228,
   "metadata": {},
   "outputs": [
    {
     "name": "stdout",
     "output_type": "stream",
     "text": [
      "Среднее:  91.38534259159191\n",
      "(117, 12)\n"
     ]
    }
   ],
   "source": [
    "mean_avg_glucose_level = data_train['avg_glucose_level'].mean()\n",
    "print('Среднее: ',mean_avg_glucose_level)\n",
    "outliers_avg = data_train.loc[(data_train['avg_glucose_level'] > top_line_avg)]\n",
    "print(outliers_avg.shape)\n"
   ]
  },
  {
   "cell_type": "code",
   "execution_count": 229,
   "metadata": {},
   "outputs": [],
   "source": [
    "data_train['avg_glucose_level'].replace(to_replace=list(outliers_avg['avg_glucose_level']), \n",
    "                                        value=mean_avg_glucose_level, inplace=True)"
   ]
  },
  {
   "cell_type": "code",
   "execution_count": 230,
   "metadata": {},
   "outputs": [
    {
     "name": "stdout",
     "output_type": "stream",
     "text": [
      "(18506,)\n"
     ]
    },
    {
     "data": {
      "text/plain": [
       "<matplotlib.axes._subplots.AxesSubplot at 0x20c105c0>"
      ]
     },
     "execution_count": 230,
     "metadata": {},
     "output_type": "execute_result"
    },
    {
     "data": {
      "image/png": "[encoded data removed]",
      "text/plain": [
       "<Figure size 432x288 with 1 Axes>"
      ]
     },
     "metadata": {},
     "output_type": "display_data"
    }
   ],
   "source": [
    "print(data_train['avg_glucose_level'].shape)\n",
    "data_train[['avg_glucose_level']].plot.box()"
   ]
  },
  {
   "cell_type": "code",
   "execution_count": 231,
   "metadata": {},
   "outputs": [
    {
     "data": {
      "image/png": "[encoded data removed]",
      "text/plain": [
       "<Figure size 432x288 with 1 Axes>"
      ]
     },
     "metadata": {},
     "output_type": "display_data"
    }
   ],
   "source": [
    "#Распределение немного поправилось\n",
    "plt.hist(data_train['avg_glucose_level'], 50, edgecolor='white')\n",
    "plt.xlabel('avg_glucose_level')\n",
    "plt.ylabel('Количество')\n",
    "plt.grid(True)"
   ]
  },
  {
   "cell_type": "code",
   "execution_count": 232,
   "metadata": {},
   "outputs": [
    {
     "name": "stdout",
     "output_type": "stream",
     "text": [
      "Размер данных тренировочной выборки:  (18506,)\n",
      "Размер данных тестовой выборки:       (5207,)\n",
      "Целевая функция (1):  (376, 12)\n"
     ]
    }
   ],
   "source": [
    "print('Размер данных тренировочной выборки: ', data_train['gender'].shape)\n",
    "print('Размер данных тестовой выборки:      ', data_test['gender'].shape)\n",
    "print('Целевая функция (1): ', data_train.loc[data_train['stroke'] == 1].shape)"
   ]
  },
  {
   "cell_type": "markdown",
   "metadata": {},
   "source": [
    "### 9. bmi"
   ]
  },
  {
   "cell_type": "code",
   "execution_count": 233,
   "metadata": {},
   "outputs": [
    {
     "data": {
      "text/plain": [
       "<matplotlib.axes._subplots.AxesSubplot at 0x20cff668>"
      ]
     },
     "execution_count": 233,
     "metadata": {},
     "output_type": "execute_result"
    },
    {
     "data": {
      "image/png": "[encoded data removed]",
      "text/plain": [
       "<Figure size 432x288 with 1 Axes>"
      ]
     },
     "metadata": {},
     "output_type": "display_data"
    }
   ],
   "source": [
    "#~600 пропусков. Заполнить средним.\n",
    "#Выбросы!\n",
    "data_train['bmi'].plot.box()"
   ]
  },
  {
   "cell_type": "code",
   "execution_count": 234,
   "metadata": {},
   "outputs": [
    {
     "name": "stdout",
     "output_type": "stream",
     "text": [
      "46.300000000000004 8.699999999999998\n",
      "(395, 12)\n"
     ]
    },
    {
     "data": {
      "text/html": [
       "<div>\n",
       "<style scoped>\n",
       "    .dataframe tbody tr th:only-of-type {\n",
       "        vertical-align: middle;\n",
       "    }\n",
       "\n",
       "    .dataframe tbody tr th {\n",
       "        vertical-align: top;\n",
       "    }\n",
       "\n",
       "    .dataframe thead th {\n",
       "        text-align: right;\n",
       "    }\n",
       "</style>\n",
       "<table border=\"1\" class=\"dataframe\">\n",
       "  <thead>\n",
       "    <tr style=\"text-align: right;\">\n",
       "      <th></th>\n",
       "      <th>id</th>\n",
       "      <th>gender</th>\n",
       "      <th>age</th>\n",
       "      <th>hypertension</th>\n",
       "      <th>heart_disease</th>\n",
       "      <th>ever_married</th>\n",
       "      <th>work_type</th>\n",
       "      <th>Residence_type</th>\n",
       "      <th>avg_glucose_level</th>\n",
       "      <th>bmi</th>\n",
       "      <th>smoking_status</th>\n",
       "      <th>stroke</th>\n",
       "    </tr>\n",
       "  </thead>\n",
       "  <tbody>\n",
       "    <tr>\n",
       "      <th>69</th>\n",
       "      <td>27209</td>\n",
       "      <td>1</td>\n",
       "      <td>23.0</td>\n",
       "      <td>0</td>\n",
       "      <td>0</td>\n",
       "      <td>0</td>\n",
       "      <td>Govt_job</td>\n",
       "      <td>1</td>\n",
       "      <td>98.27</td>\n",
       "      <td>46.4</td>\n",
       "      <td>never smoked</td>\n",
       "      <td>0</td>\n",
       "    </tr>\n",
       "    <tr>\n",
       "      <th>70</th>\n",
       "      <td>57258</td>\n",
       "      <td>0</td>\n",
       "      <td>58.0</td>\n",
       "      <td>0</td>\n",
       "      <td>0</td>\n",
       "      <td>0</td>\n",
       "      <td>Govt_job</td>\n",
       "      <td>0</td>\n",
       "      <td>58.86</td>\n",
       "      <td>49.5</td>\n",
       "      <td>NaN</td>\n",
       "      <td>0</td>\n",
       "    </tr>\n",
       "    <tr>\n",
       "      <th>73</th>\n",
       "      <td>49788</td>\n",
       "      <td>1</td>\n",
       "      <td>59.0</td>\n",
       "      <td>0</td>\n",
       "      <td>0</td>\n",
       "      <td>1</td>\n",
       "      <td>Private</td>\n",
       "      <td>0</td>\n",
       "      <td>61.63</td>\n",
       "      <td>46.6</td>\n",
       "      <td>smokes</td>\n",
       "      <td>0</td>\n",
       "    </tr>\n",
       "    <tr>\n",
       "      <th>78</th>\n",
       "      <td>22538</td>\n",
       "      <td>1</td>\n",
       "      <td>66.0</td>\n",
       "      <td>0</td>\n",
       "      <td>0</td>\n",
       "      <td>1</td>\n",
       "      <td>Private</td>\n",
       "      <td>1</td>\n",
       "      <td>91.96</td>\n",
       "      <td>46.8</td>\n",
       "      <td>formerly smoked</td>\n",
       "      <td>0</td>\n",
       "    </tr>\n",
       "    <tr>\n",
       "      <th>84</th>\n",
       "      <td>30545</td>\n",
       "      <td>0</td>\n",
       "      <td>55.0</td>\n",
       "      <td>0</td>\n",
       "      <td>0</td>\n",
       "      <td>1</td>\n",
       "      <td>Private</td>\n",
       "      <td>0</td>\n",
       "      <td>91.55</td>\n",
       "      <td>52.4</td>\n",
       "      <td>never smoked</td>\n",
       "      <td>0</td>\n",
       "    </tr>\n",
       "  </tbody>\n",
       "</table>\n",
       "</div>"
      ],
      "text/plain": [
       "       id  gender   age  hypertension  heart_disease  ever_married work_type  \\\n",
       "69  27209       1  23.0             0              0             0  Govt_job   \n",
       "70  57258       0  58.0             0              0             0  Govt_job   \n",
       "73  49788       1  59.0             0              0             1   Private   \n",
       "78  22538       1  66.0             0              0             1   Private   \n",
       "84  30545       0  55.0             0              0             1   Private   \n",
       "\n",
       "    Residence_type  avg_glucose_level   bmi   smoking_status  stroke  \n",
       "69               1              98.27  46.4     never smoked       0  \n",
       "70               0              58.86  49.5              NaN       0  \n",
       "73               0              61.63  46.6           smokes       0  \n",
       "78               1              91.96  46.8  formerly smoked       0  \n",
       "84               0              91.55  52.4     never smoked       0  "
      ]
     },
     "execution_count": 234,
     "metadata": {},
     "output_type": "execute_result"
    }
   ],
   "source": [
    "top_line_bmi = data_train['bmi'].quantile(0.75) + (1.5 * (data_train['bmi'].quantile(0.75) - data_train['bmi'].quantile(0.25)))\n",
    "down_line_bmi = data_train['bmi'].quantile(0.25) - (1.5 * (data_train['bmi'].quantile(0.75) - data_train['bmi'].quantile(0.25)))\n",
    "print(top_line_bmi, down_line_bmi)\n",
    "\n",
    "bmi_outliers_null = data_train.loc[(data_train['bmi'] > top_line_bmi) & \n",
    "                                   (data_train['stroke'] == 0)]\n",
    "print(bmi_outliers_null.shape)\n",
    "bmi_outliers_null.head()"
   ]
  },
  {
   "cell_type": "code",
   "execution_count": 235,
   "metadata": {},
   "outputs": [],
   "source": [
    "data_train.drop(data_train[(data_train['bmi'] > top_line_bmi) & (data_train['stroke'] == 0)].index, inplace=True)"
   ]
  },
  {
   "cell_type": "code",
   "execution_count": 236,
   "metadata": {},
   "outputs": [
    {
     "name": "stdout",
     "output_type": "stream",
     "text": [
      "Размер данных тренировочной выборки:  (18111,)\n",
      "Размер данных тестовой выборки:       (5207,)\n",
      "Целевая функция (1):  (376, 12)\n"
     ]
    }
   ],
   "source": [
    "print('Размер данных тренировочной выборки: ', data_train['gender'].shape)\n",
    "print('Размер данных тестовой выборки:      ', data_test['gender'].shape)\n",
    "print('Целевая функция (1): ', data_train.loc[data_train['stroke'] == 1].shape)"
   ]
  },
  {
   "cell_type": "code",
   "execution_count": 237,
   "metadata": {},
   "outputs": [
    {
     "data": {
      "text/plain": [
       "<matplotlib.axes._subplots.AxesSubplot at 0x20d90630>"
      ]
     },
     "execution_count": 237,
     "metadata": {},
     "output_type": "execute_result"
    },
    {
     "data": {
      "image/png": "[encoded data removed]",
      "text/plain": [
       "<Figure size 432x288 with 1 Axes>"
      ]
     },
     "metadata": {},
     "output_type": "display_data"
    }
   ],
   "source": [
    "data_train['bmi'].plot.box()"
   ]
  },
  {
   "cell_type": "code",
   "execution_count": 238,
   "metadata": {},
   "outputs": [
    {
     "name": "stderr",
     "output_type": "stream",
     "text": [
      "C:\\PROGRA~1\\DATASC~1\\virtual\\lib\\site-packages\\numpy\\lib\\histograms.py:746: RuntimeWarning: invalid value encountered in greater_equal\n",
      "  keep = (tmp_a >= first_edge)\n",
      "C:\\PROGRA~1\\DATASC~1\\virtual\\lib\\site-packages\\numpy\\lib\\histograms.py:747: RuntimeWarning: invalid value encountered in less_equal\n",
      "  keep &= (tmp_a <= last_edge)\n"
     ]
    },
    {
     "data": {
      "image/png": "[encoded data removed]",
      "text/plain": [
       "<Figure size 432x288 with 1 Axes>"
      ]
     },
     "metadata": {},
     "output_type": "display_data"
    }
   ],
   "source": [
    "plt.hist(data_train['bmi'], 50, edgecolor='white')\n",
    "plt.xlabel('bmi')\n",
    "plt.ylabel('Количество')\n",
    "plt.grid(True)"
   ]
  },
  {
   "cell_type": "code",
   "execution_count": 239,
   "metadata": {},
   "outputs": [
    {
     "name": "stdout",
     "output_type": "stream",
     "text": [
      "Среднее bmi:  27.517132649010378\n"
     ]
    },
    {
     "data": {
      "text/plain": [
       "(6, 12)"
      ]
     },
     "execution_count": 239,
     "metadata": {},
     "output_type": "execute_result"
    }
   ],
   "source": [
    "# Посмотреть записи с пропущенными значениями.\n",
    "mean_bmi = data_train['bmi'].mean()\n",
    "print('Среднее bmi: ', mean_bmi)\n",
    "outliers_bmi = data_train.loc[(data_train['bmi'] > top_line_bmi)]\n",
    "outliers_bmi.shape"
   ]
  },
  {
   "cell_type": "code",
   "execution_count": 240,
   "metadata": {},
   "outputs": [],
   "source": [
    "data_train['bmi'].replace(to_replace=list(outliers_bmi['bmi']), \n",
    "                                        value=mean_bmi, inplace=True)"
   ]
  },
  {
   "cell_type": "code",
   "execution_count": 241,
   "metadata": {},
   "outputs": [
    {
     "data": {
      "text/plain": [
       "<matplotlib.axes._subplots.AxesSubplot at 0x20eb3da0>"
      ]
     },
     "execution_count": 241,
     "metadata": {},
     "output_type": "execute_result"
    },
    {
     "data": {
      "image/png": "[encoded data removed]",
      "text/plain": [
       "<Figure size 432x288 with 1 Axes>"
      ]
     },
     "metadata": {},
     "output_type": "display_data"
    }
   ],
   "source": [
    "data_train['bmi'].plot.box()"
   ]
  },
  {
   "cell_type": "code",
   "execution_count": 242,
   "metadata": {},
   "outputs": [
    {
     "name": "stdout",
     "output_type": "stream",
     "text": [
      "0\n",
      "0\n"
     ]
    }
   ],
   "source": [
    "# Заполняем пропуски средним значением\n",
    "data_train['bmi'].fillna(mean_bmi, inplace=True)\n",
    "print(data_train['bmi'].isna().sum())\n",
    "\n",
    "data_test['bmi'].fillna(mean_bmi, inplace=True)\n",
    "print(data_test['bmi'].isna().sum())"
   ]
  },
  {
   "cell_type": "code",
   "execution_count": 243,
   "metadata": {},
   "outputs": [
    {
     "data": {
      "image/png": "[encoded data removed]",
      "text/plain": [
       "<Figure size 432x288 with 1 Axes>"
      ]
     },
     "metadata": {},
     "output_type": "display_data"
    }
   ],
   "source": [
    "plt.hist(data_train['bmi'], 50, edgecolor='white')\n",
    "plt.xlabel('bmi')\n",
    "plt.ylabel('Количество')\n",
    "plt.grid(True)"
   ]
  },
  {
   "cell_type": "markdown",
   "metadata": {},
   "source": [
    "### 10. Smoking status"
   ]
  },
  {
   "cell_type": "code",
   "execution_count": 244,
   "metadata": {},
   "outputs": [
    {
     "name": "stdout",
     "output_type": "stream",
     "text": [
      "never smoked       6665\n",
      "formerly smoked    2908\n",
      "smokes             2630\n",
      "Name: smoking_status, dtype: int64\n",
      "(18111,)\n"
     ]
    },
    {
     "data": {
      "text/plain": [
       "<matplotlib.axes._subplots.AxesSubplot at 0x21fc55c0>"
      ]
     },
     "execution_count": 244,
     "metadata": {},
     "output_type": "execute_result"
    },
    {
     "data": {
      "image/png": "[encoded data removed]",
      "text/plain": [
       "<Figure size 432x288 with 1 Axes>"
      ]
     },
     "metadata": {},
     "output_type": "display_data"
    }
   ],
   "source": [
    "print(data_train['smoking_status'].value_counts())\n",
    "print(data_train['smoking_status'].shape)\n",
    "data_train['smoking_status'].value_counts().plot(kind='bar')"
   ]
  },
  {
   "cell_type": "code",
   "execution_count": 245,
   "metadata": {},
   "outputs": [
    {
     "data": {
      "text/plain": [
       "(5843, 12)"
      ]
     },
     "execution_count": 245,
     "metadata": {},
     "output_type": "execute_result"
    }
   ],
   "source": [
    "#Смотрим количество пропусков и находим сколько из них принадлежат к классу \"0\"\n",
    "data_train['smoking_status'].isna().sum()\n",
    "data_train['smoking_status'].fillna('NaN', inplace=True)\n",
    "data_train.loc[(data_train['smoking_status'] == 'NaN') & (data_train['stroke'] == 0)].shape"
   ]
  },
  {
   "cell_type": "code",
   "execution_count": 246,
   "metadata": {},
   "outputs": [],
   "source": [
    "data_test['smoking_status'].isna().sum()\n",
    "data_test['smoking_status'].fillna('NaN', inplace=True)"
   ]
  },
  {
   "cell_type": "code",
   "execution_count": 247,
   "metadata": {},
   "outputs": [],
   "source": [
    "# Удаляем эти записи, чтобы еще немного сбалансировать классы\n",
    "data_train.drop(data_train[(data_train['smoking_status'] == 'NaN') & (data_train['stroke'] == 0)].index, inplace=True)"
   ]
  },
  {
   "cell_type": "code",
   "execution_count": 248,
   "metadata": {},
   "outputs": [
    {
     "name": "stdout",
     "output_type": "stream",
     "text": [
      "Размер данных тренировочной выборки:  (12268,)\n",
      "Размер данных тестовой выборки:       (5207,)\n",
      "Целевая функция (1):  (376, 12)\n"
     ]
    }
   ],
   "source": [
    "print('Размер данных тренировочной выборки: ', data_train['gender'].shape)\n",
    "print('Размер данных тестовой выборки:      ', data_test['gender'].shape)\n",
    "print('Целевая функция (1): ', data_train.loc[data_train['stroke'] == 1].shape)"
   ]
  },
  {
   "cell_type": "code",
   "execution_count": 249,
   "metadata": {},
   "outputs": [
    {
     "data": {
      "text/plain": [
       "<matplotlib.axes._subplots.AxesSubplot at 0x22028b00>"
      ]
     },
     "execution_count": 249,
     "metadata": {},
     "output_type": "execute_result"
    },
    {
     "data": {
      "image/png": "[encoded data removed]",
      "text/plain": [
       "<Figure size 432x288 with 1 Axes>"
      ]
     },
     "metadata": {},
     "output_type": "display_data"
    }
   ],
   "source": [
    "data_train['smoking_status'].value_counts().plot(kind='bar')"
   ]
  },
  {
   "cell_type": "code",
   "execution_count": 250,
   "metadata": {},
   "outputs": [
    {
     "name": "stdout",
     "output_type": "stream",
     "text": [
      "0\n",
      "0\n"
     ]
    }
   ],
   "source": [
    "#Заменяем модой пропуски в smoking status\n",
    "smoking_status_mode = data_train['smoking_status'].mode()\n",
    "data_train['smoking_status'].replace(to_replace='NaN', value=smoking_status_mode[0], inplace=True)\n",
    "print(data_train['smoking_status'].isna().sum())\n",
    "\n",
    "data_test['smoking_status'].replace(to_replace='NaN', value=smoking_status_mode[0], inplace=True)\n",
    "print(data_test['smoking_status'].isna().sum())\n",
    "\n",
    "\n"
   ]
  },
  {
   "cell_type": "code",
   "execution_count": 251,
   "metadata": {},
   "outputs": [
    {
     "data": {
      "text/plain": [
       "<matplotlib.axes._subplots.AxesSubplot at 0x21f2eb38>"
      ]
     },
     "execution_count": 251,
     "metadata": {},
     "output_type": "execute_result"
    },
    {
     "data": {
      "image/png": "[encoded data removed]",
      "text/plain": [
       "<Figure size 432x288 with 1 Axes>"
      ]
     },
     "metadata": {},
     "output_type": "display_data"
    }
   ],
   "source": [
    "data_train['smoking_status'].value_counts().plot(kind='bar')"
   ]
  },
  {
   "cell_type": "markdown",
   "metadata": {},
   "source": [
    "### 11. Stroke"
   ]
  },
  {
   "cell_type": "code",
   "execution_count": 252,
   "metadata": {},
   "outputs": [
    {
     "name": "stdout",
     "output_type": "stream",
     "text": [
      "0    11892\n",
      "1      376\n",
      "Name: stroke, dtype: int64\n",
      "(12268,)\n"
     ]
    },
    {
     "data": {
      "text/plain": [
       "<matplotlib.axes._subplots.AxesSubplot at 0x20e9d908>"
      ]
     },
     "execution_count": 252,
     "metadata": {},
     "output_type": "execute_result"
    },
    {
     "data": {
      "image/png": "[encoded data removed]",
      "text/plain": [
       "<Figure size 432x288 with 1 Axes>"
      ]
     },
     "metadata": {},
     "output_type": "display_data"
    }
   ],
   "source": [
    "#Классы несбалансированы.\n",
    "print(data_train['stroke'].value_counts())\n",
    "print(data_train['stroke'].shape)\n",
    "data_train['stroke'].value_counts().plot(kind='bar')"
   ]
  },
  {
   "cell_type": "markdown",
   "metadata": {},
   "source": [
    "## Корреляционная матрица"
   ]
  },
  {
   "cell_type": "code",
   "execution_count": 253,
   "metadata": {},
   "outputs": [
    {
     "data": {
      "text/plain": [
       "<matplotlib.axes._subplots.AxesSubplot at 0x20d15a58>"
      ]
     },
     "execution_count": 253,
     "metadata": {},
     "output_type": "execute_result"
    },
    {
     "data": {
      "image/png": "[encoded data removed]",
      "text/plain": [
       "<Figure size 720x576 with 2 Axes>"
      ]
     },
     "metadata": {},
     "output_type": "display_data"
    }
   ],
   "source": [
    "import seaborn as sns\n",
    "plt.figure(figsize=(10, 8))\n",
    "sns.heatmap(data_train.corr(), center=2, annot=True, linewidths=1, vmin=0, vmax=1, fmt='.2g')"
   ]
  },
  {
   "cell_type": "code",
   "execution_count": 257,
   "metadata": {},
   "outputs": [
    {
     "name": "stdout",
     "output_type": "stream",
     "text": [
      "(12268, 10)\n",
      "(5207, 10)\n"
     ]
    },
    {
     "data": {
      "text/html": [
       "<div>\n",
       "<style scoped>\n",
       "    .dataframe tbody tr th:only-of-type {\n",
       "        vertical-align: middle;\n",
       "    }\n",
       "\n",
       "    .dataframe tbody tr th {\n",
       "        vertical-align: top;\n",
       "    }\n",
       "\n",
       "    .dataframe thead th {\n",
       "        text-align: right;\n",
       "    }\n",
       "</style>\n",
       "<table border=\"1\" class=\"dataframe\">\n",
       "  <thead>\n",
       "    <tr style=\"text-align: right;\">\n",
       "      <th></th>\n",
       "      <th>gender</th>\n",
       "      <th>age</th>\n",
       "      <th>hypertension</th>\n",
       "      <th>heart_disease</th>\n",
       "      <th>Residence_type</th>\n",
       "      <th>avg_glucose_level</th>\n",
       "      <th>bmi</th>\n",
       "      <th>smoking_status_formerly smoked</th>\n",
       "      <th>smoking_status_never smoked</th>\n",
       "      <th>smoking_status_smokes</th>\n",
       "    </tr>\n",
       "  </thead>\n",
       "  <tbody>\n",
       "    <tr>\n",
       "      <th>0</th>\n",
       "      <td>0</td>\n",
       "      <td>17.0</td>\n",
       "      <td>0</td>\n",
       "      <td>0</td>\n",
       "      <td>1</td>\n",
       "      <td>133.19</td>\n",
       "      <td>17.8</td>\n",
       "      <td>0</td>\n",
       "      <td>1</td>\n",
       "      <td>0</td>\n",
       "    </tr>\n",
       "    <tr>\n",
       "      <th>1</th>\n",
       "      <td>0</td>\n",
       "      <td>8.0</td>\n",
       "      <td>0</td>\n",
       "      <td>0</td>\n",
       "      <td>1</td>\n",
       "      <td>92.53</td>\n",
       "      <td>17.6</td>\n",
       "      <td>0</td>\n",
       "      <td>1</td>\n",
       "      <td>0</td>\n",
       "    </tr>\n",
       "    <tr>\n",
       "      <th>2</th>\n",
       "      <td>0</td>\n",
       "      <td>69.0</td>\n",
       "      <td>0</td>\n",
       "      <td>0</td>\n",
       "      <td>1</td>\n",
       "      <td>105.58</td>\n",
       "      <td>26.9</td>\n",
       "      <td>0</td>\n",
       "      <td>1</td>\n",
       "      <td>0</td>\n",
       "    </tr>\n",
       "    <tr>\n",
       "      <th>3</th>\n",
       "      <td>0</td>\n",
       "      <td>48.0</td>\n",
       "      <td>0</td>\n",
       "      <td>0</td>\n",
       "      <td>1</td>\n",
       "      <td>67.39</td>\n",
       "      <td>25.6</td>\n",
       "      <td>0</td>\n",
       "      <td>1</td>\n",
       "      <td>0</td>\n",
       "    </tr>\n",
       "    <tr>\n",
       "      <th>4</th>\n",
       "      <td>0</td>\n",
       "      <td>10.0</td>\n",
       "      <td>0</td>\n",
       "      <td>0</td>\n",
       "      <td>0</td>\n",
       "      <td>91.60</td>\n",
       "      <td>29.1</td>\n",
       "      <td>0</td>\n",
       "      <td>1</td>\n",
       "      <td>0</td>\n",
       "    </tr>\n",
       "  </tbody>\n",
       "</table>\n",
       "</div>"
      ],
      "text/plain": [
       "   gender   age  hypertension  heart_disease  Residence_type  \\\n",
       "0       0  17.0             0              0               1   \n",
       "1       0   8.0             0              0               1   \n",
       "2       0  69.0             0              0               1   \n",
       "3       0  48.0             0              0               1   \n",
       "4       0  10.0             0              0               0   \n",
       "\n",
       "   avg_glucose_level   bmi  smoking_status_formerly smoked  \\\n",
       "0             133.19  17.8                               0   \n",
       "1              92.53  17.6                               0   \n",
       "2             105.58  26.9                               0   \n",
       "3              67.39  25.6                               0   \n",
       "4              91.60  29.1                               0   \n",
       "\n",
       "   smoking_status_never smoked  smoking_status_smokes  \n",
       "0                            1                      0  \n",
       "1                            1                      0  \n",
       "2                            1                      0  \n",
       "3                            1                      0  \n",
       "4                            1                      0  "
      ]
     },
     "execution_count": 257,
     "metadata": {},
     "output_type": "execute_result"
    }
   ],
   "source": [
    "data_train_ohe = pd.get_dummies(data_train[['gender', 'age', 'hypertension', 'heart_disease',\n",
    "                           'Residence_type', 'avg_glucose_level', 'bmi', 'smoking_status']])\n",
    "print(data_train_ohe.shape)\n",
    "data_train_ohe.head()\n",
    "\n",
    "data_test_ohe = pd.get_dummies(data_test[['gender', 'age', 'hypertension', 'heart_disease', \n",
    "                           'Residence_type', 'avg_glucose_level', 'bmi', 'smoking_status']])\n",
    "print(data_test_ohe.shape)\n",
    "data_test_ohe.head()"
   ]
  },
  {
   "cell_type": "markdown",
   "metadata": {},
   "source": [
    "## 2. Обучение"
   ]
  },
  {
   "cell_type": "code",
   "execution_count": 258,
   "metadata": {},
   "outputs": [],
   "source": [
    "X_train = data_train_ohe.values\n",
    "y_train = data_train['stroke'].values\n",
    "\n",
    "X_test = data_test_ohe.values\n",
    "y_test = data_test['stroke'].values"
   ]
  },
  {
   "cell_type": "code",
   "execution_count": 315,
   "metadata": {},
   "outputs": [],
   "source": [
    "from sklearn.metrics import confusion_matrix\n",
    "from sklearn.metrics import make_scorer, accuracy_score, precision_score, recall_score"
   ]
  },
  {
   "cell_type": "markdown",
   "metadata": {},
   "source": [
    "### 2.1. Деревья решений"
   ]
  },
  {
   "cell_type": "code",
   "execution_count": 265,
   "metadata": {},
   "outputs": [
    {
     "name": "stdout",
     "output_type": "stream",
     "text": [
      "Accuracy: 0.59516\n",
      "Recall: 0.90426\n"
     ]
    },
    {
     "data": {
      "text/plain": [
       "<matplotlib.axes._subplots.AxesSubplot at 0x22090ac8>"
      ]
     },
     "execution_count": 265,
     "metadata": {},
     "output_type": "execute_result"
    },
    {
     "data": {
      "image/png": "[encoded data removed]",
      "text/plain": [
       "<Figure size 432x288 with 2 Axes>"
      ]
     },
     "metadata": {},
     "output_type": "display_data"
    }
   ],
   "source": [
    "from sklearn.tree import DecisionTreeClassifier\n",
    "\n",
    "\n",
    "dtc = DecisionTreeClassifier(criterion='entropy', max_depth=1, random_state=228, class_weight='balanced')\n",
    "dtc = dtc.fit(X_train, y_train)\n",
    "\n",
    "y_pred = dtc.predict(X_test)\n",
    "\n",
    "print('Accuracy: %.5f' % accuracy_score(y_test, y_pred))\n",
    "print('Recall: %.5f' % recall_score(y_test, y_pred))\n",
    "\n",
    "\n",
    "from sklearn.metrics import confusion_matrix\n",
    "cm = confusion_matrix(y_true=y_test , y_pred=y_pred)\n",
    "\n",
    "#Матрица ошибок\n",
    "sns.heatmap(cm, annot=True, fmt='0g', cmap='Blues', square=True, cbar=True)\n",
    "\n",
    "# criterion=gini, max_depth=3\n",
    "# Accuracy: 0.69138\n",
    "# Recall: 0.78723\n",
    "\n",
    "# criterion=entropy, max_depth=1\n",
    "# Accuracy: 0.59516\n",
    "# Recall: 0.90426"
   ]
  },
  {
   "cell_type": "markdown",
   "metadata": {},
   "source": [
    "### 2.2. Случайный лес"
   ]
  },
  {
   "cell_type": "code",
   "execution_count": 272,
   "metadata": {},
   "outputs": [
    {
     "name": "stdout",
     "output_type": "stream",
     "text": [
      "Accuracy: 0.59516\n",
      "Recall: 0.90426\n"
     ]
    },
    {
     "data": {
      "text/plain": [
       "<matplotlib.axes._subplots.AxesSubplot at 0x226ebeb8>"
      ]
     },
     "execution_count": 272,
     "metadata": {},
     "output_type": "execute_result"
    },
    {
     "data": {
      "image/png": "[encoded data removed]",
      "text/plain": [
       "<Figure size 432x288 with 2 Axes>"
      ]
     },
     "metadata": {},
     "output_type": "display_data"
    }
   ],
   "source": [
    "from sklearn.ensemble import RandomForestClassifier\n",
    "\n",
    "rf = RandomForestClassifier(n_estimators=1, criterion='entropy', max_depth=1, random_state=228, \n",
    "                            bootstrap=True, class_weight='balanced_subsample')\n",
    "\n",
    "rf.fit(X_train, y_train)\n",
    "\n",
    "y_pred = rf.predict(X_test)\n",
    "print('Accuracy: %.5f' % accuracy_score(y_test, y_pred) )\n",
    "print('Recall: %.5f' % recall_score(y_test, y_pred))\n",
    "\n",
    "cm = confusion_matrix(y_true=y_test, y_pred=y_pred)\n",
    "\n",
    "sns.heatmap(cm, annot=True, fmt='0g', cmap='Blues', square=True, cbar=True)\n",
    "\n",
    "# СО всеми даннными\n",
    "# n_estimators=14, criterion='entropy', max_depth=3\n",
    "# Accuracy: 0.71020\n",
    "# Recall: 0.82979\n",
    "\n",
    "# n_estimators=16, criterion='entropy', max_depth=2\n",
    "# Accuracy: 0.63338\n",
    "# Recall: 0.88298\n",
    "    \n",
    "# С выбранными RF\n",
    "# n_estimators=5, criterion='entropy', max_depth=1\n",
    "\n",
    "# n_estimators=5, max_depth=1\n",
    "# Accuracy: 0.60880\n",
    "# Recall: 0.90426\n",
    "\n",
    "#New\n",
    "# n_estimators=1, max_depth=1\n",
    "# Accuracy: 0.59516\n",
    "# Recall: 0.90426"
   ]
  },
  {
   "cell_type": "markdown",
   "metadata": {},
   "source": [
    "### 2.3. SVC"
   ]
  },
  {
   "cell_type": "code",
   "execution_count": 273,
   "metadata": {},
   "outputs": [
    {
     "name": "stdout",
     "output_type": "stream",
     "text": [
      "Accuracy: 0.73516\n",
      "Recall: 0.73404\n"
     ]
    }
   ],
   "source": [
    "from sklearn.svm import SVC\n",
    "\n",
    "svm = SVC(kernel='linear', C=1.0, random_state=228, class_weight='balanced')\n",
    "svm.fit(X_train, y_train)\n",
    "\n",
    "y_pred = svm.predict(X_test)\n",
    "print('Accuracy: %.5f' % accuracy_score(y_test, y_pred))\n",
    "print('Recall: %.5f' % recall_score(y_test, y_pred))\n",
    "\n",
    "# svm = SVC(kernel='linear', C=1.0, random_state=228)\n",
    "# svm.fit(X_train_std, y_train)"
   ]
  },
  {
   "cell_type": "markdown",
   "metadata": {},
   "source": [
    "## 3. Обучение со стандартизированными данными"
   ]
  },
  {
   "cell_type": "code",
   "execution_count": 300,
   "metadata": {},
   "outputs": [],
   "source": [
    "# Стандартизация \n",
    "from sklearn.preprocessing import StandardScaler \n",
    "ss = StandardScaler() \n",
    "ss.fit(X_train)\n",
    "\n",
    "X_train_std = ss.transform(X_train) \n",
    "X_test_std = ss.transform(X_test) "
   ]
  },
  {
   "cell_type": "markdown",
   "metadata": {},
   "source": [
    "### 3.1. Деревья решений"
   ]
  },
  {
   "cell_type": "code",
   "execution_count": 301,
   "metadata": {},
   "outputs": [
    {
     "name": "stdout",
     "output_type": "stream",
     "text": [
      "Accuracy: 0.59516\n",
      "Recall: 0.90426\n"
     ]
    }
   ],
   "source": [
    "dtc = dtc.fit(X_train_std, y_train)\n",
    "\n",
    "y_pred = dtc.predict(X_test_std)\n",
    "\n",
    "print('Accuracy: %.5f' % accuracy_score(y_test, y_pred))\n",
    "print('Recall: %.5f' % recall_score(y_test, y_pred))"
   ]
  },
  {
   "cell_type": "markdown",
   "metadata": {},
   "source": [
    "### 3.2. Случайный лес"
   ]
  },
  {
   "cell_type": "code",
   "execution_count": 302,
   "metadata": {},
   "outputs": [
    {
     "name": "stdout",
     "output_type": "stream",
     "text": [
      "Accuracy: 0.59516\n",
      "Recall: 0.90426\n"
     ]
    }
   ],
   "source": [
    "rf = RandomForestClassifier(n_estimators=1, criterion='entropy', max_depth=1, random_state=228, \n",
    "                            bootstrap=True, class_weight='balanced_subsample')\n",
    "\n",
    "rf.fit(X_train_std, y_train)\n",
    "\n",
    "y_pred = rf.predict(X_test_std)\n",
    "print('Accuracy: %.5f' % accuracy_score(y_test, y_pred) )\n",
    "print('Recall: %.5f' % recall_score(y_test, y_pred))"
   ]
  },
  {
   "cell_type": "markdown",
   "metadata": {},
   "source": [
    "### 3.3. AdaBoost"
   ]
  },
  {
   "cell_type": "code",
   "execution_count": 303,
   "metadata": {},
   "outputs": [
    {
     "name": "stdout",
     "output_type": "stream",
     "text": [
      "(12268, 2) (5207, 2)\n"
     ]
    }
   ],
   "source": [
    "#Скомбинировать 30 признаков в 2 \n",
    "from sklearn import decomposition\n",
    "\n",
    "pca = decomposition.PCA(n_components=2, random_state=228)\n",
    "pca.fit(X_train_std)\n",
    "X_train_2d = pca.transform(X_train_std)\n",
    "X_test_2d = pca.transform(X_test_std)\n",
    "\n",
    "print(X_train_2d.shape, X_test_2d.shape)"
   ]
  },
  {
   "cell_type": "code",
   "execution_count": 304,
   "metadata": {},
   "outputs": [
    {
     "name": "stdout",
     "output_type": "stream",
     "text": [
      "Accuracy: 0.98195\n",
      "Recall: 0.00000\n"
     ]
    }
   ],
   "source": [
    "from sklearn.ensemble import AdaBoostClassifier\n",
    "#Указываем слабый классификатор для AdaBoostClassifier\n",
    "\n",
    "abdt = AdaBoostClassifier(DecisionTreeClassifier(max_depth=1), #100% - max_depth=5, n_estimators=16\n",
    "                          algorithm=\"SAMME\", \n",
    "                          n_estimators=16, \n",
    "                          random_state=228)\n",
    "\n",
    "abdt = abdt.fit(X_train_2d, y_train)\n",
    "\n",
    "#присвоим результат предсказания на тестовых данных\n",
    "y_pred = abdt.predict(X_test_2d)\n",
    "\n",
    "#Считаем accuracy\n",
    "print('Accuracy: %.5f' % accuracy_score(y_test, y_pred) )\n",
    "print('Recall: %.5f' % recall_score(y_test, y_pred))"
   ]
  },
  {
   "cell_type": "markdown",
   "metadata": {},
   "source": [
    "### 3.4. SVC"
   ]
  },
  {
   "cell_type": "code",
   "execution_count": 306,
   "metadata": {},
   "outputs": [
    {
     "name": "stdout",
     "output_type": "stream",
     "text": [
      "Accuracy: 0.74323\n",
      "Recall: 0.73404\n"
     ]
    }
   ],
   "source": [
    "from sklearn.svm import SVC\n",
    "\n",
    "svm = SVC(kernel='linear', C=1.0, random_state=228, class_weight='balanced')\n",
    "svm.fit(X_train_std, y_train)\n",
    "\n",
    "y_pred = svm.predict(X_test_std)\n",
    "print('Accuracy: %.5f' % accuracy_score(y_test, y_pred))\n",
    "print('Recall: %.5f' % recall_score(y_test, y_pred))\n",
    "\n",
    "# svm = SVC(kernel='linear', C=1.0, random_state=228)\n",
    "# svm.fit(X_train_std, y_train)"
   ]
  },
  {
   "cell_type": "markdown",
   "metadata": {},
   "source": [
    "## 4. Обучение с отобранными признаками"
   ]
  },
  {
   "cell_type": "code",
   "execution_count": 289,
   "metadata": {},
   "outputs": [
    {
     "name": "stdout",
     "output_type": "stream",
     "text": [
      " 1) age                            0.427157\n",
      " 2) hypertension                   0.243948\n",
      " 3) heart_disease                  0.203331\n",
      " 4) Residence_type                 0.026868\n",
      " 5) avg_glucose_level              0.025795\n",
      " 6) bmi                            0.019852\n",
      " 7) smoking_status_formerly smoked 0.019518\n",
      " 8) smoking_status_never smoked    0.014110\n",
      " 9) smoking_status_smokes          0.010410\n"
     ]
    }
   ],
   "source": [
    "from sklearn.ensemble import RandomForestClassifier\n",
    "feat_labels = data_train_ohe.columns[1:]\n",
    "forest = RandomForestClassifier(n_estimators=100,\n",
    "                                random_state=228,\n",
    "                                n_jobs=-1)\n",
    "forest.fit(X_train, y_train)\n",
    "importances = forest.feature_importances_\n",
    "indices = np.argsort(importances)[::-1]\n",
    "for f in range(X_train.shape[1] - 1):\n",
    "    print(\"%2d) %-*s %f\" % (f + 1, 30,\n",
    "    feat_labels[f],\n",
    "    importances[indices[f]]))"
   ]
  },
  {
   "cell_type": "code",
   "execution_count": 290,
   "metadata": {},
   "outputs": [
    {
     "name": "stdout",
     "output_type": "stream",
     "text": [
      "(12268, 3)\n",
      "(5207, 3)\n"
     ]
    },
    {
     "data": {
      "text/html": [
       "<div>\n",
       "<style scoped>\n",
       "    .dataframe tbody tr th:only-of-type {\n",
       "        vertical-align: middle;\n",
       "    }\n",
       "\n",
       "    .dataframe tbody tr th {\n",
       "        vertical-align: top;\n",
       "    }\n",
       "\n",
       "    .dataframe thead th {\n",
       "        text-align: right;\n",
       "    }\n",
       "</style>\n",
       "<table border=\"1\" class=\"dataframe\">\n",
       "  <thead>\n",
       "    <tr style=\"text-align: right;\">\n",
       "      <th></th>\n",
       "      <th>age</th>\n",
       "      <th>hypertension</th>\n",
       "      <th>heart_disease</th>\n",
       "    </tr>\n",
       "  </thead>\n",
       "  <tbody>\n",
       "    <tr>\n",
       "      <th>0</th>\n",
       "      <td>17.0</td>\n",
       "      <td>0</td>\n",
       "      <td>0</td>\n",
       "    </tr>\n",
       "    <tr>\n",
       "      <th>1</th>\n",
       "      <td>8.0</td>\n",
       "      <td>0</td>\n",
       "      <td>0</td>\n",
       "    </tr>\n",
       "    <tr>\n",
       "      <th>2</th>\n",
       "      <td>69.0</td>\n",
       "      <td>0</td>\n",
       "      <td>0</td>\n",
       "    </tr>\n",
       "    <tr>\n",
       "      <th>3</th>\n",
       "      <td>48.0</td>\n",
       "      <td>0</td>\n",
       "      <td>0</td>\n",
       "    </tr>\n",
       "    <tr>\n",
       "      <th>4</th>\n",
       "      <td>10.0</td>\n",
       "      <td>0</td>\n",
       "      <td>0</td>\n",
       "    </tr>\n",
       "  </tbody>\n",
       "</table>\n",
       "</div>"
      ],
      "text/plain": [
       "    age  hypertension  heart_disease\n",
       "0  17.0             0              0\n",
       "1   8.0             0              0\n",
       "2  69.0             0              0\n",
       "3  48.0             0              0\n",
       "4  10.0             0              0"
      ]
     },
     "execution_count": 290,
     "metadata": {},
     "output_type": "execute_result"
    }
   ],
   "source": [
    "data_train_ohe2 = pd.get_dummies(data_train[['age', 'hypertension', 'heart_disease']])\n",
    "print(data_train_ohe2.shape)\n",
    "data_train_ohe.head()\n",
    "\n",
    "data_test_ohe2 = pd.get_dummies(data_test[['age', 'hypertension', 'heart_disease']])\n",
    "print(data_test_ohe2.shape)\n",
    "data_test_ohe2.head()"
   ]
  },
  {
   "cell_type": "code",
   "execution_count": 291,
   "metadata": {},
   "outputs": [
    {
     "data": {
      "text/plain": [
       "(12268, 3)"
      ]
     },
     "execution_count": 291,
     "metadata": {},
     "output_type": "execute_result"
    }
   ],
   "source": [
    "X_train2 = data_train_ohe2.values\n",
    "y_train2 = data_train['stroke'].values\n",
    "\n",
    "X_test2 = data_test_ohe2.values\n",
    "y_test2 = data_test['stroke'].values\n",
    "\n",
    "data_train_ohe2.shape"
   ]
  },
  {
   "cell_type": "markdown",
   "metadata": {},
   "source": [
    "### 4.1. Деревья решений"
   ]
  },
  {
   "cell_type": "code",
   "execution_count": 294,
   "metadata": {},
   "outputs": [
    {
     "name": "stdout",
     "output_type": "stream",
     "text": [
      "Accuracy: 0.59516\n",
      "Recall: 0.90426\n"
     ]
    }
   ],
   "source": [
    "dtc = DecisionTreeClassifier(criterion='entropy', max_depth=1, random_state=228, class_weight='balanced')\n",
    "dtc = dtc.fit(X_train2, y_train2)\n",
    "\n",
    "y_pred2 = dtc.predict(X_test2)\n",
    "\n",
    "print('Accuracy: %.5f' % accuracy_score(y_test2, y_pred2))\n",
    "print('Recall: %.5f' % recall_score(y_test2, y_pred2))\n",
    "\n",
    "\n",
    "from sklearn.metrics import confusion_matrix\n",
    "cm = confusion_matrix(y_true=y_test2, y_pred=y_pred2)"
   ]
  },
  {
   "cell_type": "markdown",
   "metadata": {},
   "source": [
    "### 4.2. Случайный лес"
   ]
  },
  {
   "cell_type": "code",
   "execution_count": 295,
   "metadata": {},
   "outputs": [
    {
     "name": "stdout",
     "output_type": "stream",
     "text": [
      "Accuracy: 0.59516\n",
      "Recall: 0.90426\n"
     ]
    }
   ],
   "source": [
    "rf = RandomForestClassifier(n_estimators=1, criterion='entropy', max_depth=1, random_state=228, \n",
    "                            bootstrap=True, class_weight='balanced_subsample')\n",
    "\n",
    "rf.fit(X_train2, y_train2)\n",
    "\n",
    "y_pred = rf.predict(X_test2)\n",
    "print('Accuracy: %.5f' % accuracy_score(y_test2, y_pred2) )\n",
    "print('Recall: %.5f' % recall_score(y_test2, y_pred2))"
   ]
  },
  {
   "cell_type": "markdown",
   "metadata": {},
   "source": [
    "### 4.3. SVC"
   ]
  },
  {
   "cell_type": "code",
   "execution_count": 296,
   "metadata": {},
   "outputs": [
    {
     "name": "stdout",
     "output_type": "stream",
     "text": [
      "Accuracy: 0.75456\n",
      "Recall: 0.75532\n"
     ]
    }
   ],
   "source": [
    "from sklearn.svm import SVC\n",
    "\n",
    "svm = SVC(kernel='linear', C=1.0, random_state=228, class_weight='balanced')\n",
    "svm.fit(X_train2, y_train2)\n",
    "\n",
    "y_pred2 = svm.predict(X_test2)\n",
    "print('Accuracy: %.5f' % accuracy_score(y_test2, y_pred2))\n",
    "print('Recall: %.5f' % recall_score(y_test2, y_pred2))"
   ]
  },
  {
   "cell_type": "markdown",
   "metadata": {},
   "source": [
    "## 5. Обучение с кросс-валидацией"
   ]
  },
  {
   "cell_type": "code",
   "execution_count": 339,
   "metadata": {},
   "outputs": [],
   "source": [
    "# Получение обучающих и валидационных выборок для кросс-валидации\n",
    "from sklearn.model_selection import StratifiedKFold\n",
    "\n",
    "folds_num = 5\n",
    "kf = StratifiedKFold(n_splits=folds_num, shuffle=True, random_state=228)\n",
    "ss = StandardScaler()\n",
    "\n",
    "X_trains, X_vals, y_trains, y_vals = [], [], [], []\n",
    "for train_idx, val_idx in kf.split(X_train, y_train):\n",
    "    X_trains.append(ss.fit_transform(X_train[train_idx]))\n",
    "    X_vals.append(ss.transform(X_train[val_idx]))\n",
    "    y_trains.append(y_train[train_idx])\n",
    "    y_vals.append(y_train[val_idx])"
   ]
  },
  {
   "cell_type": "code",
   "execution_count": 342,
   "metadata": {},
   "outputs": [
    {
     "name": "stdout",
     "output_type": "stream",
     "text": [
      "Accuracy: 0.91358\n",
      "Recall: 0.19149\n",
      "Accuracy: 0.91358\n",
      "Recall: 0.19149\n",
      "Accuracy: 0.91358\n",
      "Recall: 0.19149\n",
      "Accuracy: 0.91358\n",
      "Recall: 0.19149\n",
      "Accuracy: 0.91358\n",
      "Recall: 0.19149\n"
     ]
    }
   ],
   "source": [
    "for i in range(len(X_trains)):\n",
    "    rf.fit(X_train, y_train)\n",
    "    y_pred = rf.predict(X_test_std)\n",
    "    print('Accuracy: %.5f' % accuracy_score(y_test, y_pred) )\n",
    "    print('Recall: %.5f' % recall_score(y_test, y_pred))\n",
    "\n"
   ]
  },
  {
   "cell_type": "markdown",
   "metadata": {},
   "source": [
    "## 6. PCA"
   ]
  },
  {
   "cell_type": "code",
   "execution_count": 322,
   "metadata": {},
   "outputs": [
    {
     "data": {
      "text/plain": [
       "PCA(copy=True, iterated_power='auto', n_components=10, random_state=228,\n",
       "  svd_solver='auto', tol=0.0, whiten=False)"
      ]
     },
     "execution_count": 322,
     "metadata": {},
     "output_type": "execute_result"
    }
   ],
   "source": [
    "from sklearn.decomposition import PCA\n",
    "\n",
    "pca = PCA(n_components=X_train_std.shape[1], random_state=228)\n",
    "pca.fit(X_train_std)"
   ]
  },
  {
   "cell_type": "code",
   "execution_count": 330,
   "metadata": {},
   "outputs": [
    {
     "data": {
      "image/png": "[encoded data removed]",
      "text/plain": [
       "<Figure size 864x504 with 1 Axes>"
      ]
     },
     "metadata": {
      "needs_background": "light"
     },
     "output_type": "display_data"
    }
   ],
   "source": [
    "import matplotlib.pyplot as plt\n",
    "\n",
    "%matplotlib inline\n",
    "\n",
    "x_axis = np.arange(1, 11)\n",
    "\n",
    "plt.figure(figsize=(12, 7))\n",
    "plt.scatter(x_axis, pca.explained_variance_ratio_, color='g')\n",
    "plt.grid(True)\n",
    "\n"
   ]
  },
  {
   "cell_type": "code",
   "execution_count": 331,
   "metadata": {},
   "outputs": [
    {
     "data": {
      "text/plain": [
       "1.0"
      ]
     },
     "execution_count": 331,
     "metadata": {},
     "output_type": "execute_result"
    }
   ],
   "source": [
    "pca.explained_variance_ratio_[:10].sum()"
   ]
  },
  {
   "cell_type": "code",
   "execution_count": 332,
   "metadata": {},
   "outputs": [
    {
     "data": {
      "text/plain": [
       "PCA(copy=True, iterated_power='auto', n_components=10, random_state=228,\n",
       "  svd_solver='auto', tol=0.0, whiten=False)"
      ]
     },
     "execution_count": 332,
     "metadata": {},
     "output_type": "execute_result"
    }
   ],
   "source": [
    "pca.set_params(n_components=10)\n",
    "pca.fit(X_train)"
   ]
  },
  {
   "cell_type": "code",
   "execution_count": 333,
   "metadata": {},
   "outputs": [
    {
     "data": {
      "text/plain": [
       "0.9999999999999998"
      ]
     },
     "execution_count": 333,
     "metadata": {},
     "output_type": "execute_result"
    }
   ],
   "source": [
    "pca.explained_variance_ratio_.sum()"
   ]
  },
  {
   "cell_type": "code",
   "execution_count": 334,
   "metadata": {},
   "outputs": [],
   "source": [
    "X_train_pca = pca.transform(X_train)\n",
    "X_test_pca = pca.transform(X_test)"
   ]
  },
  {
   "cell_type": "code",
   "execution_count": 336,
   "metadata": {},
   "outputs": [
    {
     "name": "stdout",
     "output_type": "stream",
     "text": [
      "n_estimators=1, max_depth=1\n",
      "Accuracy: 0.65508\n",
      "Recall: 0.61702\n",
      "n_estimators=1, max_depth=2\n",
      "Accuracy: 0.65508\n",
      "Recall: 0.61702\n",
      "n_estimators=1, max_depth=3\n",
      "Accuracy: 0.77569\n",
      "Recall: 0.55319\n",
      "n_estimators=1, max_depth=4\n",
      "Accuracy: 0.71231\n",
      "Recall: 0.65957\n",
      "n_estimators=1, max_depth=5\n",
      "Accuracy: 0.74304\n",
      "Recall: 0.47872\n",
      "n_estimators=1, max_depth=6\n",
      "Accuracy: 0.75399\n",
      "Recall: 0.48936\n",
      "n_estimators=1, max_depth=7\n",
      "Accuracy: 0.79912\n",
      "Recall: 0.39362\n",
      "n_estimators=1, max_depth=8\n",
      "Accuracy: 0.86134\n",
      "Recall: 0.29787\n",
      "n_estimators=1, max_depth=9\n",
      "Accuracy: 0.84290\n",
      "Recall: 0.36170\n",
      "n_estimators=2, max_depth=1\n",
      "Accuracy: 0.65508\n",
      "Recall: 0.61702\n",
      "n_estimators=2, max_depth=2\n",
      "Accuracy: 0.70905\n",
      "Recall: 0.57447\n",
      "n_estimators=2, max_depth=3\n",
      "Accuracy: 0.72537\n",
      "Recall: 0.60638\n",
      "n_estimators=2, max_depth=4\n",
      "Accuracy: 0.74169\n",
      "Recall: 0.55319\n",
      "n_estimators=2, max_depth=5\n",
      "Accuracy: 0.82543\n",
      "Recall: 0.35106\n",
      "n_estimators=2, max_depth=6\n",
      "Accuracy: 0.82370\n",
      "Recall: 0.41489\n",
      "n_estimators=2, max_depth=7\n",
      "Accuracy: 0.87210\n",
      "Recall: 0.32979\n",
      "n_estimators=2, max_depth=8\n",
      "Accuracy: 0.88496\n",
      "Recall: 0.29787\n",
      "n_estimators=2, max_depth=9\n",
      "Accuracy: 0.89706\n",
      "Recall: 0.23404\n",
      "n_estimators=3, max_depth=1\n",
      "Accuracy: 0.77453\n",
      "Recall: 0.46809\n",
      "n_estimators=3, max_depth=2\n",
      "Accuracy: 0.78202\n",
      "Recall: 0.46809\n",
      "n_estimators=3, max_depth=3\n",
      "Accuracy: 0.72076\n",
      "Recall: 0.63830\n",
      "n_estimators=3, max_depth=4\n",
      "Accuracy: 0.78414\n",
      "Recall: 0.53191\n",
      "n_estimators=3, max_depth=5\n",
      "Accuracy: 0.83445\n",
      "Recall: 0.39362\n",
      "n_estimators=3, max_depth=6\n",
      "Accuracy: 0.83253\n",
      "Recall: 0.43617\n",
      "n_estimators=3, max_depth=7\n",
      "Accuracy: 0.85865\n",
      "Recall: 0.34043\n",
      "n_estimators=3, max_depth=8\n",
      "Accuracy: 0.87421\n",
      "Recall: 0.34043\n",
      "n_estimators=3, max_depth=9\n",
      "Accuracy: 0.89975\n",
      "Recall: 0.22340\n",
      "n_estimators=4, max_depth=1\n",
      "Accuracy: 0.74976\n",
      "Recall: 0.51064\n",
      "n_estimators=4, max_depth=2\n",
      "Accuracy: 0.77300\n",
      "Recall: 0.52128\n",
      "n_estimators=4, max_depth=3\n",
      "Accuracy: 0.72979\n",
      "Recall: 0.59574\n",
      "n_estimators=4, max_depth=4\n",
      "Accuracy: 0.78394\n",
      "Recall: 0.56383\n",
      "n_estimators=4, max_depth=5\n",
      "Accuracy: 0.83964\n",
      "Recall: 0.37234\n",
      "n_estimators=4, max_depth=6\n",
      "Accuracy: 0.85692\n",
      "Recall: 0.40426\n",
      "n_estimators=4, max_depth=7\n",
      "Accuracy: 0.88131\n",
      "Recall: 0.30851\n",
      "n_estimators=4, max_depth=8\n",
      "Accuracy: 0.88688\n",
      "Recall: 0.31915\n",
      "n_estimators=4, max_depth=9\n",
      "Accuracy: 0.90858\n",
      "Recall: 0.21277\n",
      "n_estimators=5, max_depth=1\n",
      "Accuracy: 0.75302\n",
      "Recall: 0.53191\n",
      "n_estimators=5, max_depth=2\n",
      "Accuracy: 0.78126\n",
      "Recall: 0.50000\n",
      "n_estimators=5, max_depth=3\n",
      "Accuracy: 0.74534\n",
      "Recall: 0.63830\n",
      "n_estimators=5, max_depth=4\n",
      "Accuracy: 0.78490\n",
      "Recall: 0.56383\n",
      "n_estimators=5, max_depth=5\n",
      "Accuracy: 0.83522\n",
      "Recall: 0.40426\n",
      "n_estimators=5, max_depth=6\n",
      "Accuracy: 0.85347\n",
      "Recall: 0.42553\n",
      "n_estimators=5, max_depth=7\n",
      "Accuracy: 0.88247\n",
      "Recall: 0.30851\n",
      "n_estimators=5, max_depth=8\n",
      "Accuracy: 0.88708\n",
      "Recall: 0.29787\n",
      "n_estimators=5, max_depth=9\n",
      "Accuracy: 0.90666\n",
      "Recall: 0.20213\n",
      "n_estimators=6, max_depth=1\n",
      "Accuracy: 0.74265\n",
      "Recall: 0.56383\n",
      "n_estimators=6, max_depth=2\n",
      "Accuracy: 0.77761\n",
      "Recall: 0.53191\n",
      "n_estimators=6, max_depth=3\n",
      "Accuracy: 0.74073\n",
      "Recall: 0.65957\n",
      "n_estimators=6, max_depth=4\n",
      "Accuracy: 0.77914\n",
      "Recall: 0.61702\n",
      "n_estimators=6, max_depth=5\n",
      "Accuracy: 0.82831\n",
      "Recall: 0.41489\n",
      "n_estimators=6, max_depth=6\n",
      "Accuracy: 0.85212\n",
      "Recall: 0.42553\n",
      "n_estimators=6, max_depth=7\n",
      "Accuracy: 0.87517\n",
      "Recall: 0.28723\n",
      "n_estimators=6, max_depth=8\n",
      "Accuracy: 0.89092\n",
      "Recall: 0.34043\n",
      "n_estimators=6, max_depth=9\n",
      "Accuracy: 0.91185\n",
      "Recall: 0.22340\n",
      "n_estimators=7, max_depth=1\n",
      "Accuracy: 0.74534\n",
      "Recall: 0.55319\n",
      "n_estimators=7, max_depth=2\n",
      "Accuracy: 0.78740\n",
      "Recall: 0.53191\n",
      "n_estimators=7, max_depth=3\n",
      "Accuracy: 0.72691\n",
      "Recall: 0.71277\n",
      "n_estimators=7, max_depth=4\n",
      "Accuracy: 0.76820\n",
      "Recall: 0.67021\n",
      "n_estimators=7, max_depth=5\n",
      "Accuracy: 0.82216\n",
      "Recall: 0.43617\n",
      "n_estimators=7, max_depth=6\n",
      "Accuracy: 0.85308\n",
      "Recall: 0.43617\n",
      "n_estimators=7, max_depth=7\n",
      "Accuracy: 0.88170\n",
      "Recall: 0.29787\n",
      "n_estimators=7, max_depth=8\n",
      "Accuracy: 0.89764\n",
      "Recall: 0.27660\n",
      "n_estimators=7, max_depth=9\n",
      "Accuracy: 0.91358\n",
      "Recall: 0.21277\n",
      "n_estimators=8, max_depth=1\n",
      "Accuracy: 0.73382\n",
      "Recall: 0.56383\n",
      "n_estimators=8, max_depth=2\n",
      "Accuracy: 0.75667\n",
      "Recall: 0.61702\n",
      "n_estimators=8, max_depth=3\n",
      "Accuracy: 0.70559\n",
      "Recall: 0.68085\n",
      "n_estimators=8, max_depth=4\n",
      "Accuracy: 0.76416\n",
      "Recall: 0.65957\n",
      "n_estimators=8, max_depth=5\n",
      "Accuracy: 0.82043\n",
      "Recall: 0.44681\n",
      "n_estimators=8, max_depth=6\n",
      "Accuracy: 0.85039\n",
      "Recall: 0.43617\n",
      "n_estimators=8, max_depth=7\n",
      "Accuracy: 0.87766\n",
      "Recall: 0.31915\n",
      "n_estimators=8, max_depth=8\n",
      "Accuracy: 0.88842\n",
      "Recall: 0.30851\n",
      "n_estimators=8, max_depth=9\n",
      "Accuracy: 0.91108\n",
      "Recall: 0.21277\n",
      "n_estimators=9, max_depth=1\n",
      "Accuracy: 0.73113\n",
      "Recall: 0.57447\n",
      "n_estimators=9, max_depth=2\n",
      "Accuracy: 0.75379\n",
      "Recall: 0.61702\n",
      "n_estimators=9, max_depth=3\n",
      "Accuracy: 0.70636\n",
      "Recall: 0.68085\n",
      "n_estimators=9, max_depth=4\n",
      "Accuracy: 0.75130\n",
      "Recall: 0.67021\n",
      "n_estimators=9, max_depth=5\n",
      "Accuracy: 0.81506\n",
      "Recall: 0.51064\n",
      "n_estimators=9, max_depth=6\n",
      "Accuracy: 0.84751\n",
      "Recall: 0.42553\n",
      "n_estimators=9, max_depth=7\n",
      "Accuracy: 0.87690\n",
      "Recall: 0.29787\n",
      "n_estimators=9, max_depth=8\n",
      "Accuracy: 0.89226\n",
      "Recall: 0.26596\n",
      "n_estimators=9, max_depth=9\n",
      "Accuracy: 0.91147\n",
      "Recall: 0.21277\n",
      "n_estimators=10, max_depth=1\n",
      "Accuracy: 0.74285\n",
      "Recall: 0.58511\n",
      "n_estimators=10, max_depth=2\n",
      "Accuracy: 0.74938\n",
      "Recall: 0.63830\n",
      "n_estimators=10, max_depth=3\n",
      "Accuracy: 0.72345\n",
      "Recall: 0.68085\n",
      "n_estimators=10, max_depth=4\n",
      "Accuracy: 0.75802\n",
      "Recall: 0.68085\n",
      "n_estimators=10, max_depth=5\n",
      "Accuracy: 0.82331\n",
      "Recall: 0.46809\n",
      "n_estimators=10, max_depth=6\n",
      "Accuracy: 0.84771\n",
      "Recall: 0.43617\n",
      "n_estimators=10, max_depth=7\n",
      "Accuracy: 0.87210\n",
      "Recall: 0.32979\n",
      "n_estimators=10, max_depth=8\n",
      "Accuracy: 0.89264\n",
      "Recall: 0.28723\n",
      "n_estimators=10, max_depth=9\n",
      "Accuracy: 0.90762\n",
      "Recall: 0.22340\n",
      "n_estimators=11, max_depth=1\n",
      "Accuracy: 0.74016\n",
      "Recall: 0.59574\n",
      "n_estimators=11, max_depth=2\n",
      "Accuracy: 0.74765\n",
      "Recall: 0.63830\n",
      "n_estimators=11, max_depth=3\n",
      "Accuracy: 0.73708\n",
      "Recall: 0.69149\n",
      "n_estimators=11, max_depth=4\n",
      "Accuracy: 0.75898\n",
      "Recall: 0.67021\n",
      "n_estimators=11, max_depth=5\n",
      "Accuracy: 0.82408\n",
      "Recall: 0.45745\n",
      "n_estimators=11, max_depth=6\n",
      "Accuracy: 0.84194\n",
      "Recall: 0.42553\n",
      "n_estimators=11, max_depth=7\n",
      "Accuracy: 0.86960\n",
      "Recall: 0.30851\n",
      "n_estimators=11, max_depth=8\n",
      "Accuracy: 0.89015\n",
      "Recall: 0.29787\n",
      "n_estimators=11, max_depth=9\n",
      "Accuracy: 0.90839\n",
      "Recall: 0.21277\n",
      "n_estimators=12, max_depth=1\n",
      "Accuracy: 0.73593\n",
      "Recall: 0.60638\n",
      "n_estimators=12, max_depth=2\n",
      "Accuracy: 0.74457\n",
      "Recall: 0.63830\n",
      "n_estimators=12, max_depth=3\n",
      "Accuracy: 0.74995\n",
      "Recall: 0.70213\n",
      "n_estimators=12, max_depth=4\n",
      "Accuracy: 0.77319\n",
      "Recall: 0.67021\n",
      "n_estimators=12, max_depth=5\n",
      "Accuracy: 0.83196\n",
      "Recall: 0.42553\n",
      "n_estimators=12, max_depth=6\n",
      "Accuracy: 0.84425\n",
      "Recall: 0.43617\n",
      "n_estimators=12, max_depth=7\n",
      "Accuracy: 0.87094\n",
      "Recall: 0.34043\n",
      "n_estimators=12, max_depth=8\n",
      "Accuracy: 0.89053\n",
      "Recall: 0.29787\n",
      "n_estimators=12, max_depth=9\n",
      "Accuracy: 0.90839\n",
      "Recall: 0.23404\n",
      "n_estimators=13, max_depth=1\n",
      "Accuracy: 0.73267\n",
      "Recall: 0.62766\n",
      "n_estimators=13, max_depth=2\n",
      "Accuracy: 0.75341\n",
      "Recall: 0.61702\n",
      "n_estimators=13, max_depth=3\n",
      "Accuracy: 0.74496\n",
      "Recall: 0.70213\n",
      "n_estimators=13, max_depth=4\n",
      "Accuracy: 0.77300\n",
      "Recall: 0.65957\n",
      "n_estimators=13, max_depth=5\n",
      "Accuracy: 0.82888\n",
      "Recall: 0.43617\n",
      "n_estimators=13, max_depth=6\n",
      "Accuracy: 0.84713\n",
      "Recall: 0.43617\n",
      "n_estimators=13, max_depth=7\n",
      "Accuracy: 0.87210\n",
      "Recall: 0.34043\n",
      "n_estimators=13, max_depth=8\n",
      "Accuracy: 0.88996\n",
      "Recall: 0.29787\n",
      "n_estimators=13, max_depth=9\n",
      "Accuracy: 0.90686\n",
      "Recall: 0.21277\n",
      "n_estimators=14, max_depth=1\n",
      "Accuracy: 0.73017\n",
      "Recall: 0.60638\n",
      "n_estimators=14, max_depth=2\n",
      "Accuracy: 0.74208\n",
      "Recall: 0.63830\n",
      "n_estimators=14, max_depth=3\n",
      "Accuracy: 0.75994\n",
      "Recall: 0.70213\n",
      "n_estimators=14, max_depth=4\n",
      "Accuracy: 0.78241\n",
      "Recall: 0.68085\n",
      "n_estimators=14, max_depth=5\n",
      "Accuracy: 0.82908\n",
      "Recall: 0.44681\n",
      "n_estimators=14, max_depth=6\n",
      "Accuracy: 0.84348\n",
      "Recall: 0.43617\n",
      "n_estimators=14, max_depth=7\n",
      "Accuracy: 0.87114\n",
      "Recall: 0.37234\n",
      "n_estimators=14, max_depth=8\n",
      "Accuracy: 0.88880\n",
      "Recall: 0.30851\n",
      "n_estimators=14, max_depth=9\n",
      "Accuracy: 0.90686\n",
      "Recall: 0.23404\n",
      "n_estimators=15, max_depth=1\n",
      "Accuracy: 0.73267\n",
      "Recall: 0.60638\n",
      "n_estimators=15, max_depth=2\n",
      "Accuracy: 0.74496\n",
      "Recall: 0.63830\n",
      "n_estimators=15, max_depth=3\n",
      "Accuracy: 0.76397\n",
      "Recall: 0.67021\n",
      "n_estimators=15, max_depth=4\n",
      "Accuracy: 0.77780\n",
      "Recall: 0.65957\n",
      "n_estimators=15, max_depth=5\n",
      "Accuracy: 0.82408\n",
      "Recall: 0.45745\n",
      "n_estimators=15, max_depth=6\n",
      "Accuracy: 0.84674\n",
      "Recall: 0.42553\n",
      "n_estimators=15, max_depth=7\n",
      "Accuracy: 0.87190\n",
      "Recall: 0.34043\n",
      "n_estimators=15, max_depth=8\n",
      "Accuracy: 0.88900\n",
      "Recall: 0.31915\n",
      "n_estimators=15, max_depth=9\n",
      "Accuracy: 0.90935\n",
      "Recall: 0.23404\n",
      "n_estimators=16, max_depth=1\n",
      "Accuracy: 0.72806\n",
      "Recall: 0.60638\n",
      "n_estimators=16, max_depth=2\n",
      "Accuracy: 0.74938\n",
      "Recall: 0.62766\n",
      "n_estimators=16, max_depth=3\n",
      "Accuracy: 0.76013\n",
      "Recall: 0.69149\n",
      "n_estimators=16, max_depth=4\n",
      "Accuracy: 0.77511\n",
      "Recall: 0.65957\n",
      "n_estimators=16, max_depth=5\n",
      "Accuracy: 0.81602\n",
      "Recall: 0.45745\n",
      "n_estimators=16, max_depth=6\n",
      "Accuracy: 0.84790\n",
      "Recall: 0.43617\n",
      "n_estimators=16, max_depth=7\n",
      "Accuracy: 0.87152\n",
      "Recall: 0.31915\n",
      "n_estimators=16, max_depth=8\n",
      "Accuracy: 0.89053\n",
      "Recall: 0.29787\n",
      "n_estimators=16, max_depth=9\n",
      "Accuracy: 0.91166\n",
      "Recall: 0.21277\n",
      "n_estimators=17, max_depth=1\n",
      "Accuracy: 0.72729\n",
      "Recall: 0.62766\n",
      "n_estimators=17, max_depth=2\n",
      "Accuracy: 0.74707\n",
      "Recall: 0.63830\n",
      "n_estimators=17, max_depth=3\n",
      "Accuracy: 0.75149\n",
      "Recall: 0.71277\n",
      "n_estimators=17, max_depth=4\n",
      "Accuracy: 0.77261\n",
      "Recall: 0.67021\n",
      "n_estimators=17, max_depth=5\n",
      "Accuracy: 0.81333\n",
      "Recall: 0.47872\n",
      "n_estimators=17, max_depth=6\n",
      "Accuracy: 0.84674\n",
      "Recall: 0.44681\n",
      "n_estimators=17, max_depth=7\n",
      "Accuracy: 0.87152\n",
      "Recall: 0.32979\n",
      "n_estimators=17, max_depth=8\n",
      "Accuracy: 0.88708\n",
      "Recall: 0.31915\n",
      "n_estimators=17, max_depth=9\n",
      "Accuracy: 0.91127\n",
      "Recall: 0.22340\n",
      "n_estimators=18, max_depth=1\n",
      "Accuracy: 0.73036\n",
      "Recall: 0.62766\n",
      "n_estimators=18, max_depth=2\n",
      "Accuracy: 0.74899\n",
      "Recall: 0.62766\n",
      "n_estimators=18, max_depth=3\n",
      "Accuracy: 0.74765\n",
      "Recall: 0.70213\n",
      "n_estimators=18, max_depth=4\n",
      "Accuracy: 0.77050\n",
      "Recall: 0.68085\n",
      "n_estimators=18, max_depth=5\n",
      "Accuracy: 0.81122\n",
      "Recall: 0.47872\n",
      "n_estimators=18, max_depth=6\n",
      "Accuracy: 0.84444\n",
      "Recall: 0.45745\n",
      "n_estimators=18, max_depth=7\n",
      "Accuracy: 0.87056\n",
      "Recall: 0.30851\n",
      "n_estimators=18, max_depth=8\n",
      "Accuracy: 0.88611\n",
      "Recall: 0.29787\n",
      "n_estimators=18, max_depth=9\n",
      "Accuracy: 0.90935\n",
      "Recall: 0.22340\n",
      "n_estimators=19, max_depth=1\n",
      "Accuracy: 0.72863\n",
      "Recall: 0.62766\n",
      "n_estimators=19, max_depth=2\n",
      "Accuracy: 0.74822\n",
      "Recall: 0.62766\n",
      "n_estimators=19, max_depth=3\n",
      "Accuracy: 0.75053\n",
      "Recall: 0.71277\n",
      "n_estimators=19, max_depth=4\n",
      "Accuracy: 0.76993\n",
      "Recall: 0.68085\n",
      "n_estimators=19, max_depth=5\n",
      "Accuracy: 0.81429\n",
      "Recall: 0.46809\n",
      "n_estimators=19, max_depth=6\n",
      "Accuracy: 0.84022\n",
      "Recall: 0.46809\n",
      "n_estimators=19, max_depth=7\n",
      "Accuracy: 0.86998\n",
      "Recall: 0.34043\n",
      "n_estimators=19, max_depth=8\n",
      "Accuracy: 0.88554\n",
      "Recall: 0.29787\n",
      "n_estimators=19, max_depth=9\n",
      "Accuracy: 0.90705\n",
      "Recall: 0.22340\n",
      "n_estimators=20, max_depth=1\n",
      "Accuracy: 0.73190\n",
      "Recall: 0.64894\n",
      "n_estimators=20, max_depth=2\n",
      "Accuracy: 0.74707\n",
      "Recall: 0.63830\n",
      "n_estimators=20, max_depth=3\n",
      "Accuracy: 0.74842\n",
      "Recall: 0.70213\n",
      "n_estimators=20, max_depth=4\n",
      "Accuracy: 0.76877\n",
      "Recall: 0.68085\n",
      "n_estimators=20, max_depth=5\n",
      "Accuracy: 0.81198\n",
      "Recall: 0.46809\n",
      "n_estimators=20, max_depth=6\n",
      "Accuracy: 0.83964\n",
      "Recall: 0.45745\n",
      "n_estimators=20, max_depth=7\n",
      "Accuracy: 0.86710\n",
      "Recall: 0.35106\n",
      "n_estimators=20, max_depth=8\n",
      "Accuracy: 0.88247\n",
      "Recall: 0.31915\n",
      "n_estimators=20, max_depth=9\n",
      "Accuracy: 0.90801\n",
      "Recall: 0.24468\n",
      "n_estimators=21, max_depth=1\n",
      "Accuracy: 0.73708\n",
      "Recall: 0.59574\n",
      "n_estimators=21, max_depth=2\n",
      "Accuracy: 0.74822\n",
      "Recall: 0.63830\n",
      "n_estimators=21, max_depth=3\n",
      "Accuracy: 0.74534\n",
      "Recall: 0.71277\n",
      "n_estimators=21, max_depth=4\n",
      "Accuracy: 0.77012\n",
      "Recall: 0.67021\n",
      "n_estimators=21, max_depth=5\n",
      "Accuracy: 0.81198\n",
      "Recall: 0.44681\n",
      "n_estimators=21, max_depth=6\n",
      "Accuracy: 0.84271\n",
      "Recall: 0.45745\n",
      "n_estimators=21, max_depth=7\n",
      "Accuracy: 0.86441\n",
      "Recall: 0.34043\n",
      "n_estimators=21, max_depth=8\n",
      "Accuracy: 0.88323\n",
      "Recall: 0.31915\n",
      "n_estimators=21, max_depth=9\n",
      "Accuracy: 0.90532\n",
      "Recall: 0.23404\n",
      "n_estimators=22, max_depth=1\n",
      "Accuracy: 0.74227\n",
      "Recall: 0.61702\n",
      "n_estimators=22, max_depth=2\n",
      "Accuracy: 0.74976\n",
      "Recall: 0.61702\n",
      "n_estimators=22, max_depth=3\n",
      "Accuracy: 0.74515\n",
      "Recall: 0.70213\n",
      "n_estimators=22, max_depth=4\n",
      "Accuracy: 0.76877\n",
      "Recall: 0.67021\n",
      "n_estimators=22, max_depth=5\n",
      "Accuracy: 0.81352\n",
      "Recall: 0.43617\n",
      "n_estimators=22, max_depth=6\n",
      "Accuracy: 0.84406\n",
      "Recall: 0.44681\n",
      "n_estimators=22, max_depth=7\n",
      "Accuracy: 0.86825\n",
      "Recall: 0.34043\n",
      "n_estimators=22, max_depth=8\n",
      "Accuracy: 0.88131\n",
      "Recall: 0.31915\n",
      "n_estimators=22, max_depth=9\n",
      "Accuracy: 0.90398\n",
      "Recall: 0.23404\n",
      "n_estimators=23, max_depth=1\n",
      "Accuracy: 0.74592\n",
      "Recall: 0.59574\n",
      "n_estimators=23, max_depth=2\n",
      "Accuracy: 0.75014\n",
      "Recall: 0.61702\n",
      "n_estimators=23, max_depth=3\n",
      "Accuracy: 0.74669\n",
      "Recall: 0.69149\n",
      "n_estimators=23, max_depth=4\n",
      "Accuracy: 0.77165\n",
      "Recall: 0.68085\n",
      "n_estimators=23, max_depth=5\n",
      "Accuracy: 0.81390\n",
      "Recall: 0.44681\n",
      "n_estimators=23, max_depth=6\n",
      "Accuracy: 0.84425\n",
      "Recall: 0.45745\n",
      "n_estimators=23, max_depth=7\n",
      "Accuracy: 0.86941\n",
      "Recall: 0.34043\n",
      "n_estimators=23, max_depth=8\n",
      "Accuracy: 0.88093\n",
      "Recall: 0.31915\n",
      "n_estimators=23, max_depth=9\n",
      "Accuracy: 0.90263\n",
      "Recall: 0.23404\n",
      "n_estimators=24, max_depth=1\n",
      "Accuracy: 0.74573\n",
      "Recall: 0.59574\n",
      "n_estimators=24, max_depth=2\n",
      "Accuracy: 0.74592\n",
      "Recall: 0.62766\n",
      "n_estimators=24, max_depth=3\n",
      "Accuracy: 0.74765\n",
      "Recall: 0.70213\n",
      "n_estimators=24, max_depth=4\n",
      "Accuracy: 0.76993\n",
      "Recall: 0.68085\n",
      "n_estimators=24, max_depth=5\n",
      "Accuracy: 0.81525\n",
      "Recall: 0.43617\n",
      "n_estimators=24, max_depth=6\n",
      "Accuracy: 0.84367\n",
      "Recall: 0.46809\n",
      "n_estimators=24, max_depth=7\n",
      "Accuracy: 0.86768\n",
      "Recall: 0.32979\n",
      "n_estimators=24, max_depth=8\n",
      "Accuracy: 0.88035\n",
      "Recall: 0.31915\n",
      "n_estimators=24, max_depth=9\n",
      "Accuracy: 0.90321\n",
      "Recall: 0.24468\n"
     ]
    }
   ],
   "source": [
    "for i in range(1,25):\n",
    "    for j in range(1,10):\n",
    "        print('n_estimators=' + str(i) + ', max_depth=' + str(j))\n",
    "\n",
    "        rf = RandomForestClassifier(n_estimators=i, criterion='entropy', max_depth=j, random_state=228, \n",
    "                                    bootstrap=True, class_weight='balanced_subsample')\n",
    "\n",
    "        rf.fit(X_train_pca, y_train)\n",
    "\n",
    "        y_pred = rf.predict(X_test_pca)\n",
    "        print('Accuracy: %.5f' % accuracy_score(y_test, y_pred) )\n",
    "        print('Recall: %.5f' % recall_score(y_test, y_pred))"
   ]
  }
 ],
 "metadata": {
  "kernelspec": {
   "display_name": "Python 3",
   "language": "python",
   "name": "python3"
  },
  "language_info": {
   "codemirror_mode": {
    "name": "ipython",
    "version": 3
   },
   "file_extension": ".py",
   "mimetype": "text/x-python",
   "name": "python",
   "nbconvert_exporter": "python",
   "pygments_lexer": "ipython3",
   "version": "3.6.9"
  }
 },
 "nbformat": 4,
 "nbformat_minor": 2
}
